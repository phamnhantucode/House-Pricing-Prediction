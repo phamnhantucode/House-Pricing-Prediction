{
 "cells": [
  {
   "metadata": {},
   "cell_type": "markdown",
   "source": [
    "# Dataset Overview\n",
    "The dataset includes 1460 rows and 81 columns. Each row represents a house and each column represents a feature of the house. The target column is 'SalePrice'. Here are 20/81 of the key features:\n",
    "\n",
    "- **SalePrice (Target Variable)**: This column is essential for your analysis as it represents the property's sale price that you're trying to predict.\n",
    "\n",
    "- **OverallQual**: This column represents the overall material and finish quality of the property. It can be a significant factor in determining the sale price.\n",
    "\n",
    "- **GrLivArea**: The above-grade living area in square feet can have a significant impact on the property's value.\n",
    "\n",
    "- **GarageCars**: The size of the garage in terms of car capacity can be an important feature affecting the property's price.\n",
    "\n",
    "- **TotalBsmtSF**: The total square feet of the basement area can also play a crucial role in determining the property's value.\n",
    "\n",
    "- **1stFlrSF**: The square footage of the first floor can be a valuable feature in estimating the property's price.\n",
    "\n",
    "- **FullBath**: The number of full bathrooms above grade can be an influential factor for potential buyers.\n",
    "\n",
    "- **TotRmsAbvGrd**: The total number of rooms above grade (excluding bathrooms) can provide insight into the property's size and functionality.\n",
    "\n",
    "- **YearBuilt**: The original construction date of the property can affect its value, considering factors such as architectural style and historical significance.\n",
    "\n",
    "- **YearRemodAdd**: The remodel date can indicate if any recent renovations or improvements were made, which can impact the property's price.\n",
    "\n",
    "- **Neighborhood**: The physical location within Ames city limits can have a significant influence on property values based on factors like amenities, schools, and desirability.\n",
    "\n",
    "- **MasVnrArea**: The masonry veneer area in square feet can add aesthetic value to the property and impact its price.\n",
    "\n",
    "- **GarageArea**: The size of the garage in square feet is another essential factor to consider.\n",
    "\n",
    "- **BsmtFinSF1**: The type 1 finished square feet of the basement area can contribute to the property's value.\n",
    "\n",
    "- **OpenPorchSF**: The square footage of the open porch area can enhance the property's appeal and potentially increase its value.\n",
    "\n",
    "- **WoodDeckSF**: The area of the wood deck in square feet can be an attractive feature for buyers and impact the property's price.\n",
    "\n",
    "- **2ndFlrSF**: The square footage of the second floor can provide additional living space and influence the property's value.\n",
    "\n",
    "- **HalfBath**: The number of half baths above grade can be a useful feature for buyers and affect the property's price.\n",
    "\n",
    "- **LotArea**: The size of the lot in square feet can be a relevant factor in determining the property's value.\n",
    "\n",
    "- **KitchenQual**: The quality of the kitchen can significantly impact the property's desirability and price.,\n",
    "\n",
    "- **...**"
   ],
   "id": "8a77807f92f26ee"
  },
  {
   "metadata": {
    "ExecuteTime": {
     "end_time": "2024-05-29T15:22:06.885044Z",
     "start_time": "2024-05-29T15:22:06.836955Z"
    }
   },
   "cell_type": "code",
   "source": [
    "import pandas as pd\n",
    "\n",
    "file_path = 'data/house_pricing_train.csv'\n",
    "\n",
    "original_df = pd.read_csv(file_path)\n",
    "\n",
    "print(original_df.head())\n",
    "print(\"Number of rows:\", original_df.shape[0])"
   ],
   "id": "fbc121e30a2defb3",
   "outputs": [
    {
     "name": "stdout",
     "output_type": "stream",
     "text": [
      "   Id  MSSubClass MSZoning  LotFrontage  LotArea Street Alley LotShape  \\\n",
      "0   1          60       RL         65.0     8450   Pave   NaN      Reg   \n",
      "1   2          20       RL         80.0     9600   Pave   NaN      Reg   \n",
      "2   3          60       RL         68.0    11250   Pave   NaN      IR1   \n",
      "3   4          70       RL         60.0     9550   Pave   NaN      IR1   \n",
      "4   5          60       RL         84.0    14260   Pave   NaN      IR1   \n",
      "\n",
      "  LandContour Utilities  ... PoolArea PoolQC Fence MiscFeature MiscVal MoSold  \\\n",
      "0         Lvl    AllPub  ...        0    NaN   NaN         NaN       0      2   \n",
      "1         Lvl    AllPub  ...        0    NaN   NaN         NaN       0      5   \n",
      "2         Lvl    AllPub  ...        0    NaN   NaN         NaN       0      9   \n",
      "3         Lvl    AllPub  ...        0    NaN   NaN         NaN       0      2   \n",
      "4         Lvl    AllPub  ...        0    NaN   NaN         NaN       0     12   \n",
      "\n",
      "  YrSold  SaleType  SaleCondition  SalePrice  \n",
      "0   2008        WD         Normal     208500  \n",
      "1   2007        WD         Normal     181500  \n",
      "2   2008        WD         Normal     223500  \n",
      "3   2006        WD        Abnorml     140000  \n",
      "4   2008        WD         Normal     250000  \n",
      "\n",
      "[5 rows x 81 columns]\n",
      "Number of rows: 1460\n"
     ]
    }
   ],
   "execution_count": 104
  },
  {
   "metadata": {
    "ExecuteTime": {
     "end_time": "2024-05-29T15:22:06.984841Z",
     "start_time": "2024-05-29T15:22:06.955688Z"
    }
   },
   "cell_type": "code",
   "source": [
    "original_df.info()\n",
    "# listing categorical and numerical columns\n",
    "categorical_columns = original_df.select_dtypes(include=['object']).columns\n",
    "numerical_columns = original_df.select_dtypes(exclude=['object']).columns\n",
    "print(\"Categorical columns:\", categorical_columns)\n",
    "print(\"Numerical columns:\", numerical_columns)\n"
   ],
   "id": "479ccfbfa54d5b5f",
   "outputs": [
    {
     "name": "stdout",
     "output_type": "stream",
     "text": [
      "<class 'pandas.core.frame.DataFrame'>\n",
      "RangeIndex: 1460 entries, 0 to 1459\n",
      "Data columns (total 81 columns):\n",
      " #   Column         Non-Null Count  Dtype  \n",
      "---  ------         --------------  -----  \n",
      " 0   Id             1460 non-null   int64  \n",
      " 1   MSSubClass     1460 non-null   int64  \n",
      " 2   MSZoning       1460 non-null   object \n",
      " 3   LotFrontage    1201 non-null   float64\n",
      " 4   LotArea        1460 non-null   int64  \n",
      " 5   Street         1460 non-null   object \n",
      " 6   Alley          91 non-null     object \n",
      " 7   LotShape       1460 non-null   object \n",
      " 8   LandContour    1460 non-null   object \n",
      " 9   Utilities      1460 non-null   object \n",
      " 10  LotConfig      1460 non-null   object \n",
      " 11  LandSlope      1460 non-null   object \n",
      " 12  Neighborhood   1460 non-null   object \n",
      " 13  Condition1     1460 non-null   object \n",
      " 14  Condition2     1460 non-null   object \n",
      " 15  BldgType       1460 non-null   object \n",
      " 16  HouseStyle     1460 non-null   object \n",
      " 17  OverallQual    1460 non-null   int64  \n",
      " 18  OverallCond    1460 non-null   int64  \n",
      " 19  YearBuilt      1460 non-null   int64  \n",
      " 20  YearRemodAdd   1460 non-null   int64  \n",
      " 21  RoofStyle      1460 non-null   object \n",
      " 22  RoofMatl       1460 non-null   object \n",
      " 23  Exterior1st    1460 non-null   object \n",
      " 24  Exterior2nd    1460 non-null   object \n",
      " 25  MasVnrType     588 non-null    object \n",
      " 26  MasVnrArea     1452 non-null   float64\n",
      " 27  ExterQual      1460 non-null   object \n",
      " 28  ExterCond      1460 non-null   object \n",
      " 29  Foundation     1460 non-null   object \n",
      " 30  BsmtQual       1423 non-null   object \n",
      " 31  BsmtCond       1423 non-null   object \n",
      " 32  BsmtExposure   1422 non-null   object \n",
      " 33  BsmtFinType1   1423 non-null   object \n",
      " 34  BsmtFinSF1     1460 non-null   int64  \n",
      " 35  BsmtFinType2   1422 non-null   object \n",
      " 36  BsmtFinSF2     1460 non-null   int64  \n",
      " 37  BsmtUnfSF      1460 non-null   int64  \n",
      " 38  TotalBsmtSF    1460 non-null   int64  \n",
      " 39  Heating        1460 non-null   object \n",
      " 40  HeatingQC      1460 non-null   object \n",
      " 41  CentralAir     1460 non-null   object \n",
      " 42  Electrical     1459 non-null   object \n",
      " 43  1stFlrSF       1460 non-null   int64  \n",
      " 44  2ndFlrSF       1460 non-null   int64  \n",
      " 45  LowQualFinSF   1460 non-null   int64  \n",
      " 46  GrLivArea      1460 non-null   int64  \n",
      " 47  BsmtFullBath   1460 non-null   int64  \n",
      " 48  BsmtHalfBath   1460 non-null   int64  \n",
      " 49  FullBath       1460 non-null   int64  \n",
      " 50  HalfBath       1460 non-null   int64  \n",
      " 51  BedroomAbvGr   1460 non-null   int64  \n",
      " 52  KitchenAbvGr   1460 non-null   int64  \n",
      " 53  KitchenQual    1460 non-null   object \n",
      " 54  TotRmsAbvGrd   1460 non-null   int64  \n",
      " 55  Functional     1460 non-null   object \n",
      " 56  Fireplaces     1460 non-null   int64  \n",
      " 57  FireplaceQu    770 non-null    object \n",
      " 58  GarageType     1379 non-null   object \n",
      " 59  GarageYrBlt    1379 non-null   float64\n",
      " 60  GarageFinish   1379 non-null   object \n",
      " 61  GarageCars     1460 non-null   int64  \n",
      " 62  GarageArea     1460 non-null   int64  \n",
      " 63  GarageQual     1379 non-null   object \n",
      " 64  GarageCond     1379 non-null   object \n",
      " 65  PavedDrive     1460 non-null   object \n",
      " 66  WoodDeckSF     1460 non-null   int64  \n",
      " 67  OpenPorchSF    1460 non-null   int64  \n",
      " 68  EnclosedPorch  1460 non-null   int64  \n",
      " 69  3SsnPorch      1460 non-null   int64  \n",
      " 70  ScreenPorch    1460 non-null   int64  \n",
      " 71  PoolArea       1460 non-null   int64  \n",
      " 72  PoolQC         7 non-null      object \n",
      " 73  Fence          281 non-null    object \n",
      " 74  MiscFeature    54 non-null     object \n",
      " 75  MiscVal        1460 non-null   int64  \n",
      " 76  MoSold         1460 non-null   int64  \n",
      " 77  YrSold         1460 non-null   int64  \n",
      " 78  SaleType       1460 non-null   object \n",
      " 79  SaleCondition  1460 non-null   object \n",
      " 80  SalePrice      1460 non-null   int64  \n",
      "dtypes: float64(3), int64(35), object(43)\n",
      "memory usage: 924.0+ KB\n",
      "Categorical columns: Index(['MSZoning', 'Street', 'Alley', 'LotShape', 'LandContour', 'Utilities',\n",
      "       'LotConfig', 'LandSlope', 'Neighborhood', 'Condition1', 'Condition2',\n",
      "       'BldgType', 'HouseStyle', 'RoofStyle', 'RoofMatl', 'Exterior1st',\n",
      "       'Exterior2nd', 'MasVnrType', 'ExterQual', 'ExterCond', 'Foundation',\n",
      "       'BsmtQual', 'BsmtCond', 'BsmtExposure', 'BsmtFinType1', 'BsmtFinType2',\n",
      "       'Heating', 'HeatingQC', 'CentralAir', 'Electrical', 'KitchenQual',\n",
      "       'Functional', 'FireplaceQu', 'GarageType', 'GarageFinish', 'GarageQual',\n",
      "       'GarageCond', 'PavedDrive', 'PoolQC', 'Fence', 'MiscFeature',\n",
      "       'SaleType', 'SaleCondition'],\n",
      "      dtype='object')\n",
      "Numerical columns: Index(['Id', 'MSSubClass', 'LotFrontage', 'LotArea', 'OverallQual',\n",
      "       'OverallCond', 'YearBuilt', 'YearRemodAdd', 'MasVnrArea', 'BsmtFinSF1',\n",
      "       'BsmtFinSF2', 'BsmtUnfSF', 'TotalBsmtSF', '1stFlrSF', '2ndFlrSF',\n",
      "       'LowQualFinSF', 'GrLivArea', 'BsmtFullBath', 'BsmtHalfBath', 'FullBath',\n",
      "       'HalfBath', 'BedroomAbvGr', 'KitchenAbvGr', 'TotRmsAbvGrd',\n",
      "       'Fireplaces', 'GarageYrBlt', 'GarageCars', 'GarageArea', 'WoodDeckSF',\n",
      "       'OpenPorchSF', 'EnclosedPorch', '3SsnPorch', 'ScreenPorch', 'PoolArea',\n",
      "       'MiscVal', 'MoSold', 'YrSold', 'SalePrice'],\n",
      "      dtype='object')\n"
     ]
    }
   ],
   "execution_count": 105
  },
  {
   "metadata": {
    "ExecuteTime": {
     "end_time": "2024-05-29T15:22:07.005684Z",
     "start_time": "2024-05-29T15:22:06.996865Z"
    }
   },
   "cell_type": "code",
   "source": "set(original_df['YearRemodAdd'])",
   "id": "fa7ad6ea17dcb498",
   "outputs": [
    {
     "data": {
      "text/plain": [
       "{1950,\n",
       " 1951,\n",
       " 1952,\n",
       " 1953,\n",
       " 1954,\n",
       " 1955,\n",
       " 1956,\n",
       " 1957,\n",
       " 1958,\n",
       " 1959,\n",
       " 1960,\n",
       " 1961,\n",
       " 1962,\n",
       " 1963,\n",
       " 1964,\n",
       " 1965,\n",
       " 1966,\n",
       " 1967,\n",
       " 1968,\n",
       " 1969,\n",
       " 1970,\n",
       " 1971,\n",
       " 1972,\n",
       " 1973,\n",
       " 1974,\n",
       " 1975,\n",
       " 1976,\n",
       " 1977,\n",
       " 1978,\n",
       " 1979,\n",
       " 1980,\n",
       " 1981,\n",
       " 1982,\n",
       " 1983,\n",
       " 1984,\n",
       " 1985,\n",
       " 1986,\n",
       " 1987,\n",
       " 1988,\n",
       " 1989,\n",
       " 1990,\n",
       " 1991,\n",
       " 1992,\n",
       " 1993,\n",
       " 1994,\n",
       " 1995,\n",
       " 1996,\n",
       " 1997,\n",
       " 1998,\n",
       " 1999,\n",
       " 2000,\n",
       " 2001,\n",
       " 2002,\n",
       " 2003,\n",
       " 2004,\n",
       " 2005,\n",
       " 2006,\n",
       " 2007,\n",
       " 2008,\n",
       " 2009,\n",
       " 2010}"
      ]
     },
     "execution_count": 106,
     "metadata": {},
     "output_type": "execute_result"
    }
   ],
   "execution_count": 106
  },
  {
   "metadata": {},
   "cell_type": "markdown",
   "source": [
    "-----------------------------------------------------------------------\n",
    "Next we find the categorical variables among the numerical columns. We can identify categorical variables by checking the ratio of unique values to the total number of values in a column. If this ratio is below a certain threshold, we can consider the column as categorical. In this case, we set the threshold to 0.05 (5%).\n",
    "And then change the data type of these columns to 'object'."
   ],
   "id": "f3b2919d463f75c1"
  },
  {
   "metadata": {
    "ExecuteTime": {
     "end_time": "2024-05-29T15:22:07.062172Z",
     "start_time": "2024-05-29T15:22:07.042253Z"
    }
   },
   "cell_type": "code",
   "source": [
    "data_types = original_df.dtypes\n",
    "\n",
    "# Identify columns with numeric data types\n",
    "numeric_columns = data_types[data_types != 'object'].index.tolist()\n",
    "\n",
    "# Identify categorical variables among the numeric columns\n",
    "categorical_vars = []\n",
    "for column in numeric_columns:\n",
    "    unique_values = original_df[column].nunique()\n",
    "    total_values = len(original_df[column])\n",
    "    if unique_values / total_values < 0.05:  # Set a threshold for categorical variables\n",
    "        categorical_vars.append(column)\n",
    "\n",
    "# Print the categorical variables\n",
    "print(\"Categorical Variables (Numeric):\")\n",
    "print(categorical_vars)  \n",
    "\n",
    "# Change the data type of these columns to 'object'\n",
    "original_df[categorical_vars] = original_df[categorical_vars].astype('object')"
   ],
   "id": "199df736f2dff1f8",
   "outputs": [
    {
     "name": "stdout",
     "output_type": "stream",
     "text": [
      "Categorical Variables (Numeric):\n",
      "['MSSubClass', 'OverallQual', 'OverallCond', 'YearRemodAdd', 'LowQualFinSF', 'BsmtFullBath', 'BsmtHalfBath', 'FullBath', 'HalfBath', 'BedroomAbvGr', 'KitchenAbvGr', 'TotRmsAbvGrd', 'Fireplaces', 'GarageCars', '3SsnPorch', 'PoolArea', 'MiscVal', 'MoSold', 'YrSold']\n"
     ]
    }
   ],
   "execution_count": 107
  },
  {
   "metadata": {},
   "cell_type": "markdown",
   "source": [
    "----------------------------------------------------------------------- \n",
    "Remove id column because it is not useful for the analysis."
   ],
   "id": "e436b1530e565a18"
  },
  {
   "metadata": {
    "ExecuteTime": {
     "end_time": "2024-05-29T15:22:07.097816Z",
     "start_time": "2024-05-29T15:22:07.085202Z"
    }
   },
   "cell_type": "code",
   "source": [
    "original_df.drop('Id', axis=1, inplace=True)\n",
    "original_df.columns"
   ],
   "id": "d76a564acd10d78f",
   "outputs": [
    {
     "data": {
      "text/plain": [
       "Index(['MSSubClass', 'MSZoning', 'LotFrontage', 'LotArea', 'Street', 'Alley',\n",
       "       'LotShape', 'LandContour', 'Utilities', 'LotConfig', 'LandSlope',\n",
       "       'Neighborhood', 'Condition1', 'Condition2', 'BldgType', 'HouseStyle',\n",
       "       'OverallQual', 'OverallCond', 'YearBuilt', 'YearRemodAdd', 'RoofStyle',\n",
       "       'RoofMatl', 'Exterior1st', 'Exterior2nd', 'MasVnrType', 'MasVnrArea',\n",
       "       'ExterQual', 'ExterCond', 'Foundation', 'BsmtQual', 'BsmtCond',\n",
       "       'BsmtExposure', 'BsmtFinType1', 'BsmtFinSF1', 'BsmtFinType2',\n",
       "       'BsmtFinSF2', 'BsmtUnfSF', 'TotalBsmtSF', 'Heating', 'HeatingQC',\n",
       "       'CentralAir', 'Electrical', '1stFlrSF', '2ndFlrSF', 'LowQualFinSF',\n",
       "       'GrLivArea', 'BsmtFullBath', 'BsmtHalfBath', 'FullBath', 'HalfBath',\n",
       "       'BedroomAbvGr', 'KitchenAbvGr', 'KitchenQual', 'TotRmsAbvGrd',\n",
       "       'Functional', 'Fireplaces', 'FireplaceQu', 'GarageType', 'GarageYrBlt',\n",
       "       'GarageFinish', 'GarageCars', 'GarageArea', 'GarageQual', 'GarageCond',\n",
       "       'PavedDrive', 'WoodDeckSF', 'OpenPorchSF', 'EnclosedPorch', '3SsnPorch',\n",
       "       'ScreenPorch', 'PoolArea', 'PoolQC', 'Fence', 'MiscFeature', 'MiscVal',\n",
       "       'MoSold', 'YrSold', 'SaleType', 'SaleCondition', 'SalePrice'],\n",
       "      dtype='object')"
      ]
     },
     "execution_count": 108,
     "metadata": {},
     "output_type": "execute_result"
    }
   ],
   "execution_count": 108
  },
  {
   "metadata": {},
   "cell_type": "markdown",
   "source": [
    "-----------------------------------------------------------------------\n",
    "Next, let's find out more information about the numerical variables:"
   ],
   "id": "fec248e434e58c0e"
  },
  {
   "metadata": {
    "ExecuteTime": {
     "end_time": "2024-05-29T15:22:07.167762Z",
     "start_time": "2024-05-29T15:22:07.119837Z"
    }
   },
   "cell_type": "code",
   "source": "original_df.describe()",
   "id": "1e8187aa4b57c07d",
   "outputs": [
    {
     "data": {
      "text/plain": [
       "       LotFrontage        LotArea    YearBuilt   MasVnrArea   BsmtFinSF1  \\\n",
       "count  1201.000000    1460.000000  1460.000000  1452.000000  1460.000000   \n",
       "mean     70.049958   10516.828082  1971.267808   103.685262   443.639726   \n",
       "std      24.284752    9981.264932    30.202904   181.066207   456.098091   \n",
       "min      21.000000    1300.000000  1872.000000     0.000000     0.000000   \n",
       "25%      59.000000    7553.500000  1954.000000     0.000000     0.000000   \n",
       "50%      69.000000    9478.500000  1973.000000     0.000000   383.500000   \n",
       "75%      80.000000   11601.500000  2000.000000   166.000000   712.250000   \n",
       "max     313.000000  215245.000000  2010.000000  1600.000000  5644.000000   \n",
       "\n",
       "        BsmtFinSF2    BsmtUnfSF  TotalBsmtSF     1stFlrSF     2ndFlrSF  \\\n",
       "count  1460.000000  1460.000000  1460.000000  1460.000000  1460.000000   \n",
       "mean     46.549315   567.240411  1057.429452  1162.626712   346.992466   \n",
       "std     161.319273   441.866955   438.705324   386.587738   436.528436   \n",
       "min       0.000000     0.000000     0.000000   334.000000     0.000000   \n",
       "25%       0.000000   223.000000   795.750000   882.000000     0.000000   \n",
       "50%       0.000000   477.500000   991.500000  1087.000000     0.000000   \n",
       "75%       0.000000   808.000000  1298.250000  1391.250000   728.000000   \n",
       "max    1474.000000  2336.000000  6110.000000  4692.000000  2065.000000   \n",
       "\n",
       "         GrLivArea  GarageYrBlt   GarageArea   WoodDeckSF  OpenPorchSF  \\\n",
       "count  1460.000000  1379.000000  1460.000000  1460.000000  1460.000000   \n",
       "mean   1515.463699  1978.506164   472.980137    94.244521    46.660274   \n",
       "std     525.480383    24.689725   213.804841   125.338794    66.256028   \n",
       "min     334.000000  1900.000000     0.000000     0.000000     0.000000   \n",
       "25%    1129.500000  1961.000000   334.500000     0.000000     0.000000   \n",
       "50%    1464.000000  1980.000000   480.000000     0.000000    25.000000   \n",
       "75%    1776.750000  2002.000000   576.000000   168.000000    68.000000   \n",
       "max    5642.000000  2010.000000  1418.000000   857.000000   547.000000   \n",
       "\n",
       "       EnclosedPorch  ScreenPorch      SalePrice  \n",
       "count    1460.000000  1460.000000    1460.000000  \n",
       "mean       21.954110    15.060959  180921.195890  \n",
       "std        61.119149    55.757415   79442.502883  \n",
       "min         0.000000     0.000000   34900.000000  \n",
       "25%         0.000000     0.000000  129975.000000  \n",
       "50%         0.000000     0.000000  163000.000000  \n",
       "75%         0.000000     0.000000  214000.000000  \n",
       "max       552.000000   480.000000  755000.000000  "
      ],
      "text/html": [
       "<div>\n",
       "<style scoped>\n",
       "    .dataframe tbody tr th:only-of-type {\n",
       "        vertical-align: middle;\n",
       "    }\n",
       "\n",
       "    .dataframe tbody tr th {\n",
       "        vertical-align: top;\n",
       "    }\n",
       "\n",
       "    .dataframe thead th {\n",
       "        text-align: right;\n",
       "    }\n",
       "</style>\n",
       "<table border=\"1\" class=\"dataframe\">\n",
       "  <thead>\n",
       "    <tr style=\"text-align: right;\">\n",
       "      <th></th>\n",
       "      <th>LotFrontage</th>\n",
       "      <th>LotArea</th>\n",
       "      <th>YearBuilt</th>\n",
       "      <th>MasVnrArea</th>\n",
       "      <th>BsmtFinSF1</th>\n",
       "      <th>BsmtFinSF2</th>\n",
       "      <th>BsmtUnfSF</th>\n",
       "      <th>TotalBsmtSF</th>\n",
       "      <th>1stFlrSF</th>\n",
       "      <th>2ndFlrSF</th>\n",
       "      <th>GrLivArea</th>\n",
       "      <th>GarageYrBlt</th>\n",
       "      <th>GarageArea</th>\n",
       "      <th>WoodDeckSF</th>\n",
       "      <th>OpenPorchSF</th>\n",
       "      <th>EnclosedPorch</th>\n",
       "      <th>ScreenPorch</th>\n",
       "      <th>SalePrice</th>\n",
       "    </tr>\n",
       "  </thead>\n",
       "  <tbody>\n",
       "    <tr>\n",
       "      <th>count</th>\n",
       "      <td>1201.000000</td>\n",
       "      <td>1460.000000</td>\n",
       "      <td>1460.000000</td>\n",
       "      <td>1452.000000</td>\n",
       "      <td>1460.000000</td>\n",
       "      <td>1460.000000</td>\n",
       "      <td>1460.000000</td>\n",
       "      <td>1460.000000</td>\n",
       "      <td>1460.000000</td>\n",
       "      <td>1460.000000</td>\n",
       "      <td>1460.000000</td>\n",
       "      <td>1379.000000</td>\n",
       "      <td>1460.000000</td>\n",
       "      <td>1460.000000</td>\n",
       "      <td>1460.000000</td>\n",
       "      <td>1460.000000</td>\n",
       "      <td>1460.000000</td>\n",
       "      <td>1460.000000</td>\n",
       "    </tr>\n",
       "    <tr>\n",
       "      <th>mean</th>\n",
       "      <td>70.049958</td>\n",
       "      <td>10516.828082</td>\n",
       "      <td>1971.267808</td>\n",
       "      <td>103.685262</td>\n",
       "      <td>443.639726</td>\n",
       "      <td>46.549315</td>\n",
       "      <td>567.240411</td>\n",
       "      <td>1057.429452</td>\n",
       "      <td>1162.626712</td>\n",
       "      <td>346.992466</td>\n",
       "      <td>1515.463699</td>\n",
       "      <td>1978.506164</td>\n",
       "      <td>472.980137</td>\n",
       "      <td>94.244521</td>\n",
       "      <td>46.660274</td>\n",
       "      <td>21.954110</td>\n",
       "      <td>15.060959</td>\n",
       "      <td>180921.195890</td>\n",
       "    </tr>\n",
       "    <tr>\n",
       "      <th>std</th>\n",
       "      <td>24.284752</td>\n",
       "      <td>9981.264932</td>\n",
       "      <td>30.202904</td>\n",
       "      <td>181.066207</td>\n",
       "      <td>456.098091</td>\n",
       "      <td>161.319273</td>\n",
       "      <td>441.866955</td>\n",
       "      <td>438.705324</td>\n",
       "      <td>386.587738</td>\n",
       "      <td>436.528436</td>\n",
       "      <td>525.480383</td>\n",
       "      <td>24.689725</td>\n",
       "      <td>213.804841</td>\n",
       "      <td>125.338794</td>\n",
       "      <td>66.256028</td>\n",
       "      <td>61.119149</td>\n",
       "      <td>55.757415</td>\n",
       "      <td>79442.502883</td>\n",
       "    </tr>\n",
       "    <tr>\n",
       "      <th>min</th>\n",
       "      <td>21.000000</td>\n",
       "      <td>1300.000000</td>\n",
       "      <td>1872.000000</td>\n",
       "      <td>0.000000</td>\n",
       "      <td>0.000000</td>\n",
       "      <td>0.000000</td>\n",
       "      <td>0.000000</td>\n",
       "      <td>0.000000</td>\n",
       "      <td>334.000000</td>\n",
       "      <td>0.000000</td>\n",
       "      <td>334.000000</td>\n",
       "      <td>1900.000000</td>\n",
       "      <td>0.000000</td>\n",
       "      <td>0.000000</td>\n",
       "      <td>0.000000</td>\n",
       "      <td>0.000000</td>\n",
       "      <td>0.000000</td>\n",
       "      <td>34900.000000</td>\n",
       "    </tr>\n",
       "    <tr>\n",
       "      <th>25%</th>\n",
       "      <td>59.000000</td>\n",
       "      <td>7553.500000</td>\n",
       "      <td>1954.000000</td>\n",
       "      <td>0.000000</td>\n",
       "      <td>0.000000</td>\n",
       "      <td>0.000000</td>\n",
       "      <td>223.000000</td>\n",
       "      <td>795.750000</td>\n",
       "      <td>882.000000</td>\n",
       "      <td>0.000000</td>\n",
       "      <td>1129.500000</td>\n",
       "      <td>1961.000000</td>\n",
       "      <td>334.500000</td>\n",
       "      <td>0.000000</td>\n",
       "      <td>0.000000</td>\n",
       "      <td>0.000000</td>\n",
       "      <td>0.000000</td>\n",
       "      <td>129975.000000</td>\n",
       "    </tr>\n",
       "    <tr>\n",
       "      <th>50%</th>\n",
       "      <td>69.000000</td>\n",
       "      <td>9478.500000</td>\n",
       "      <td>1973.000000</td>\n",
       "      <td>0.000000</td>\n",
       "      <td>383.500000</td>\n",
       "      <td>0.000000</td>\n",
       "      <td>477.500000</td>\n",
       "      <td>991.500000</td>\n",
       "      <td>1087.000000</td>\n",
       "      <td>0.000000</td>\n",
       "      <td>1464.000000</td>\n",
       "      <td>1980.000000</td>\n",
       "      <td>480.000000</td>\n",
       "      <td>0.000000</td>\n",
       "      <td>25.000000</td>\n",
       "      <td>0.000000</td>\n",
       "      <td>0.000000</td>\n",
       "      <td>163000.000000</td>\n",
       "    </tr>\n",
       "    <tr>\n",
       "      <th>75%</th>\n",
       "      <td>80.000000</td>\n",
       "      <td>11601.500000</td>\n",
       "      <td>2000.000000</td>\n",
       "      <td>166.000000</td>\n",
       "      <td>712.250000</td>\n",
       "      <td>0.000000</td>\n",
       "      <td>808.000000</td>\n",
       "      <td>1298.250000</td>\n",
       "      <td>1391.250000</td>\n",
       "      <td>728.000000</td>\n",
       "      <td>1776.750000</td>\n",
       "      <td>2002.000000</td>\n",
       "      <td>576.000000</td>\n",
       "      <td>168.000000</td>\n",
       "      <td>68.000000</td>\n",
       "      <td>0.000000</td>\n",
       "      <td>0.000000</td>\n",
       "      <td>214000.000000</td>\n",
       "    </tr>\n",
       "    <tr>\n",
       "      <th>max</th>\n",
       "      <td>313.000000</td>\n",
       "      <td>215245.000000</td>\n",
       "      <td>2010.000000</td>\n",
       "      <td>1600.000000</td>\n",
       "      <td>5644.000000</td>\n",
       "      <td>1474.000000</td>\n",
       "      <td>2336.000000</td>\n",
       "      <td>6110.000000</td>\n",
       "      <td>4692.000000</td>\n",
       "      <td>2065.000000</td>\n",
       "      <td>5642.000000</td>\n",
       "      <td>2010.000000</td>\n",
       "      <td>1418.000000</td>\n",
       "      <td>857.000000</td>\n",
       "      <td>547.000000</td>\n",
       "      <td>552.000000</td>\n",
       "      <td>480.000000</td>\n",
       "      <td>755000.000000</td>\n",
       "    </tr>\n",
       "  </tbody>\n",
       "</table>\n",
       "</div>"
      ]
     },
     "execution_count": 109,
     "metadata": {},
     "output_type": "execute_result"
    }
   ],
   "execution_count": 109
  },
  {
   "metadata": {},
   "cell_type": "markdown",
   "source": [
    "LotFrontage has a range of values from 21 to 313.0,\n",
    "MasVnrArea has a range of values from 0 to 1600.0,\n",
    "GarageYrBlt has a range of values from 1900 to 2010.\n",
    "...\n",
    "\n",
    "These columns have outliers, which can affect the model's performance. We will handle these outliers in the data preprocessing step.\n"
   ],
   "id": "2c25998e900839a1"
  },
  {
   "metadata": {},
   "cell_type": "markdown",
   "source": [
    "-----------------------------------------------------------------------\n",
    "## Data Cleaning"
   ],
   "id": "3b9c2cc6f4ffcda8"
  },
  {
   "metadata": {},
   "cell_type": "markdown",
   "source": "At first, we make a copy of the original dataframe to keep the original data unchanged.",
   "id": "e1a0bac07d3d9575"
  },
  {
   "metadata": {
    "ExecuteTime": {
     "end_time": "2024-05-29T15:22:07.180876Z",
     "start_time": "2024-05-29T15:22:07.169769Z"
    }
   },
   "cell_type": "code",
   "source": "df = original_df.copy()",
   "id": "e76e4883e3ed4874",
   "outputs": [],
   "execution_count": 110
  },
  {
   "metadata": {},
   "cell_type": "markdown",
   "source": "# Data duplication",
   "id": "87a9fa0a08d7acdc"
  },
  {
   "metadata": {
    "ExecuteTime": {
     "end_time": "2024-05-29T15:22:07.207832Z",
     "start_time": "2024-05-29T15:22:07.181887Z"
    }
   },
   "cell_type": "code",
   "source": [
    "dup_ind = df.duplicated()\n",
    "df[dup_ind]"
   ],
   "id": "5aafbaa9a811dec8",
   "outputs": [
    {
     "data": {
      "text/plain": [
       "Empty DataFrame\n",
       "Columns: [MSSubClass, MSZoning, LotFrontage, LotArea, Street, Alley, LotShape, LandContour, Utilities, LotConfig, LandSlope, Neighborhood, Condition1, Condition2, BldgType, HouseStyle, OverallQual, OverallCond, YearBuilt, YearRemodAdd, RoofStyle, RoofMatl, Exterior1st, Exterior2nd, MasVnrType, MasVnrArea, ExterQual, ExterCond, Foundation, BsmtQual, BsmtCond, BsmtExposure, BsmtFinType1, BsmtFinSF1, BsmtFinType2, BsmtFinSF2, BsmtUnfSF, TotalBsmtSF, Heating, HeatingQC, CentralAir, Electrical, 1stFlrSF, 2ndFlrSF, LowQualFinSF, GrLivArea, BsmtFullBath, BsmtHalfBath, FullBath, HalfBath, BedroomAbvGr, KitchenAbvGr, KitchenQual, TotRmsAbvGrd, Functional, Fireplaces, FireplaceQu, GarageType, GarageYrBlt, GarageFinish, GarageCars, GarageArea, GarageQual, GarageCond, PavedDrive, WoodDeckSF, OpenPorchSF, EnclosedPorch, 3SsnPorch, ScreenPorch, PoolArea, PoolQC, Fence, MiscFeature, MiscVal, MoSold, YrSold, SaleType, SaleCondition, SalePrice]\n",
       "Index: []\n",
       "\n",
       "[0 rows x 80 columns]"
      ],
      "text/html": [
       "<div>\n",
       "<style scoped>\n",
       "    .dataframe tbody tr th:only-of-type {\n",
       "        vertical-align: middle;\n",
       "    }\n",
       "\n",
       "    .dataframe tbody tr th {\n",
       "        vertical-align: top;\n",
       "    }\n",
       "\n",
       "    .dataframe thead th {\n",
       "        text-align: right;\n",
       "    }\n",
       "</style>\n",
       "<table border=\"1\" class=\"dataframe\">\n",
       "  <thead>\n",
       "    <tr style=\"text-align: right;\">\n",
       "      <th></th>\n",
       "      <th>MSSubClass</th>\n",
       "      <th>MSZoning</th>\n",
       "      <th>LotFrontage</th>\n",
       "      <th>LotArea</th>\n",
       "      <th>Street</th>\n",
       "      <th>Alley</th>\n",
       "      <th>LotShape</th>\n",
       "      <th>LandContour</th>\n",
       "      <th>Utilities</th>\n",
       "      <th>LotConfig</th>\n",
       "      <th>...</th>\n",
       "      <th>PoolArea</th>\n",
       "      <th>PoolQC</th>\n",
       "      <th>Fence</th>\n",
       "      <th>MiscFeature</th>\n",
       "      <th>MiscVal</th>\n",
       "      <th>MoSold</th>\n",
       "      <th>YrSold</th>\n",
       "      <th>SaleType</th>\n",
       "      <th>SaleCondition</th>\n",
       "      <th>SalePrice</th>\n",
       "    </tr>\n",
       "  </thead>\n",
       "  <tbody>\n",
       "  </tbody>\n",
       "</table>\n",
       "<p>0 rows × 80 columns</p>\n",
       "</div>"
      ]
     },
     "execution_count": 111,
     "metadata": {},
     "output_type": "execute_result"
    }
   ],
   "execution_count": 111
  },
  {
   "metadata": {},
   "cell_type": "markdown",
   "source": "There is no duplicated row in the dataset.",
   "id": "4cd8035e4fd3f3a8"
  },
  {
   "metadata": {},
   "cell_type": "markdown",
   "source": "# Missing values",
   "id": "cab5de642bc522ce"
  },
  {
   "metadata": {
    "ExecuteTime": {
     "end_time": "2024-05-29T15:22:07.232234Z",
     "start_time": "2024-05-29T15:22:07.218847Z"
    }
   },
   "cell_type": "code",
   "source": "df.isnull().sum()*100/df.shape[0]",
   "id": "b5f32d63e8090d66",
   "outputs": [
    {
     "data": {
      "text/plain": [
       "MSSubClass        0.000000\n",
       "MSZoning          0.000000\n",
       "LotFrontage      17.739726\n",
       "LotArea           0.000000\n",
       "Street            0.000000\n",
       "                   ...    \n",
       "MoSold            0.000000\n",
       "YrSold            0.000000\n",
       "SaleType          0.000000\n",
       "SaleCondition     0.000000\n",
       "SalePrice         0.000000\n",
       "Length: 80, dtype: float64"
      ]
     },
     "execution_count": 112,
     "metadata": {},
     "output_type": "execute_result"
    }
   ],
   "execution_count": 112
  },
  {
   "metadata": {},
   "cell_type": "markdown",
   "source": "We can see that there are many columns with missing values.",
   "id": "aa2ec034618d2e2d"
  },
  {
   "metadata": {
    "ExecuteTime": {
     "end_time": "2024-05-29T15:22:07.252199Z",
     "start_time": "2024-05-29T15:22:07.241245Z"
    }
   },
   "cell_type": "code",
   "source": [
    "print(set(df['Alley']))\n",
    "print(set(df['PoolQC']))\n",
    "print(set(df['Fence']))\n",
    "print(set(df['MiscFeature']))\n",
    "print(set(df['GarageCond']))\n",
    "print(set(df['GarageQual']))\n",
    "print(set(df['GarageFinish']))\n",
    "print(set(df['GarageType']))\n",
    "print(set(df['FireplaceQu']))\n",
    "print(set(df['BsmtQual']))\n",
    "print(set(df['BsmtCond']))\n",
    "print(set(df['BsmtExposure']))\n",
    "print(set(df['BsmtFinType1']))\n",
    "print(set(df['BsmtFinType2']))\n",
    "print(set(df['MasVnrType']))\n",
    "print(set(df['Electrical']))\n"
   ],
   "id": "3795d4ca34c691f1",
   "outputs": [
    {
     "name": "stdout",
     "output_type": "stream",
     "text": [
      "{'Pave', nan, 'Grvl'}\n",
      "{'Gd', nan, 'Fa', 'Ex'}\n",
      "{'GdWo', 'MnPrv', 'GdPrv', 'MnWw', nan}\n",
      "{'Gar2', 'TenC', 'Shed', nan, 'Othr'}\n",
      "{nan, 'Ex', 'Po', 'Gd', 'Fa', 'TA'}\n",
      "{nan, 'Ex', 'Po', 'Gd', 'Fa', 'TA'}\n",
      "{'RFn', 'Fin', nan, 'Unf'}\n",
      "{'BuiltIn', '2Types', 'CarPort', 'Detchd', 'Basment', nan, 'Attchd'}\n",
      "{'Ex', 'Fa', 'Po', 'Gd', nan, 'TA'}\n",
      "{'Ex', 'Fa', 'Gd', nan, 'TA'}\n",
      "{'Fa', 'Po', 'Gd', nan, 'TA'}\n",
      "{'No', 'Mn', 'Gd', nan, 'Av'}\n",
      "{'LwQ', 'GLQ', 'BLQ', 'Rec', 'ALQ', nan, 'Unf'}\n",
      "{'LwQ', 'GLQ', 'BLQ', 'Rec', 'ALQ', nan, 'Unf'}\n",
      "{'BrkFace', nan, 'BrkCmn', 'Stone'}\n",
      "{'SBrkr', 'Mix', 'FuseP', 'FuseA', nan, 'FuseF'}\n"
     ]
    }
   ],
   "execution_count": 113
  },
  {
   "metadata": {},
   "cell_type": "markdown",
   "source": "because 'nan' in these columns is not missing values, it is a category. We will replace 'nan' with 'No' to distinguish it from missing values.",
   "id": "942651175600f228"
  },
  {
   "metadata": {
    "ExecuteTime": {
     "end_time": "2024-05-29T15:22:07.297368Z",
     "start_time": "2024-05-29T15:22:07.276972Z"
    }
   },
   "cell_type": "code",
   "source": [
    "df['Alley'] = df['Alley'].fillna('No')\n",
    "df['PoolQC'] = df['PoolQC'].fillna('No')\n",
    "df['Fence'] = df['Fence'].fillna('No')\n",
    "df['MiscFeature'] = df['MiscFeature'].fillna('No')\n",
    "df['GarageCond'] = df['GarageCond'].fillna('No')\n",
    "df['GarageQual'] = df['GarageQual'].fillna('No')\n",
    "df['GarageFinish'] = df['GarageFinish'].fillna('No')\n",
    "df['GarageType'] = df['GarageType'].fillna('No')\n",
    "df['FireplaceQu'] = df['FireplaceQu'].fillna('No')\n",
    "df['BsmtQual'] = df['BsmtQual'].fillna('No')\n",
    "df['BsmtCond'] = df['BsmtCond'].fillna('No')\n",
    "df['BsmtExposure'] = df['BsmtExposure'].fillna('No')\n",
    "df['BsmtFinType1'] = df['BsmtFinType1'].fillna('No')\n",
    "df['BsmtFinType2'] = df['BsmtFinType2'].fillna('No')\n",
    "df['MasVnrType'] = df['MasVnrType'].fillna('No')\n",
    "df['Electrical'] = df['Electrical'].fillna('No')"
   ],
   "id": "9892f24d55b96c4b",
   "outputs": [],
   "execution_count": 114
  },
  {
   "metadata": {},
   "cell_type": "markdown",
   "source": "For other numerical columns, we will replace missing values with the median value of the column.",
   "id": "c49d9e03fad4f16"
  },
  {
   "metadata": {},
   "cell_type": "markdown",
   "source": "",
   "id": "9ec4aa8f5b7462ac"
  },
  {
   "metadata": {
    "ExecuteTime": {
     "end_time": "2024-05-29T15:22:07.336625Z",
     "start_time": "2024-05-29T15:22:07.330146Z"
    }
   },
   "cell_type": "code",
   "source": [
    "df['LotFrontage'] = df['LotFrontage'].fillna(df['LotFrontage'].median())\n",
    "df['MasVnrArea'] = df['MasVnrArea'].fillna(df['MasVnrArea'].median())\n",
    "df['GarageYrBlt'] = df['GarageYrBlt'].fillna(df['GarageYrBlt'].median())"
   ],
   "id": "8ab7a784c07bbdc9",
   "outputs": [],
   "execution_count": 115
  },
  {
   "metadata": {},
   "cell_type": "markdown",
   "source": "Let's check the missing values again.",
   "id": "7b14adc776f7416b"
  },
  {
   "metadata": {
    "ExecuteTime": {
     "end_time": "2024-05-29T15:22:07.445696Z",
     "start_time": "2024-05-29T15:22:07.430037Z"
    }
   },
   "cell_type": "code",
   "source": "df.isnull().sum()*100/df.shape[0]",
   "id": "5821b92ab18505c4",
   "outputs": [
    {
     "data": {
      "text/plain": [
       "MSSubClass       0.0\n",
       "MSZoning         0.0\n",
       "LotFrontage      0.0\n",
       "LotArea          0.0\n",
       "Street           0.0\n",
       "                ... \n",
       "MoSold           0.0\n",
       "YrSold           0.0\n",
       "SaleType         0.0\n",
       "SaleCondition    0.0\n",
       "SalePrice        0.0\n",
       "Length: 80, dtype: float64"
      ]
     },
     "execution_count": 116,
     "metadata": {},
     "output_type": "execute_result"
    }
   ],
   "execution_count": 116
  },
  {
   "metadata": {
    "ExecuteTime": {
     "end_time": "2024-05-29T15:22:07.596373Z",
     "start_time": "2024-05-29T15:22:07.593779Z"
    }
   },
   "cell_type": "code",
   "source": "",
   "id": "261a5c58c56403a3",
   "outputs": [],
   "execution_count": 116
  },
  {
   "metadata": {
    "ExecuteTime": {
     "end_time": "2024-05-29T15:22:07.637450Z",
     "start_time": "2024-05-29T15:22:07.635136Z"
    }
   },
   "cell_type": "code",
   "source": "",
   "id": "ea58d55d5c020b9c",
   "outputs": [],
   "execution_count": 116
  },
  {
   "metadata": {},
   "cell_type": "markdown",
   "source": "",
   "id": "c4af3b152f1af1a6"
  },
  {
   "metadata": {
    "ExecuteTime": {
     "end_time": "2024-05-29T15:22:07.663777Z",
     "start_time": "2024-05-29T15:22:07.660108Z"
    }
   },
   "cell_type": "code",
   "source": "",
   "id": "68153a08043f0149",
   "outputs": [],
   "execution_count": 116
  },
  {
   "metadata": {
    "ExecuteTime": {
     "end_time": "2024-05-29T15:22:07.671516Z",
     "start_time": "2024-05-29T15:22:07.668790Z"
    }
   },
   "cell_type": "code",
   "source": "",
   "id": "7b886cac3b0eca67",
   "outputs": [],
   "execution_count": 116
  },
  {
   "metadata": {
    "ExecuteTime": {
     "end_time": "2024-05-29T15:22:07.698299Z",
     "start_time": "2024-05-29T15:22:07.695093Z"
    }
   },
   "cell_type": "code",
   "source": "",
   "id": "3cf41ac51cc24a47",
   "outputs": [],
   "execution_count": 116
  }
 ],
 "metadata": {
  "kernelspec": {
   "display_name": "Python 3",
   "language": "python",
   "name": "python3"
  },
  "language_info": {
   "codemirror_mode": {
    "name": "ipython",
    "version": 2
   },
   "file_extension": ".py",
   "mimetype": "text/x-python",
   "name": "python",
   "nbconvert_exporter": "python",
   "pygments_lexer": "ipython2",
   "version": "2.7.6"
  }
 },
 "nbformat": 4,
 "nbformat_minor": 5
}
