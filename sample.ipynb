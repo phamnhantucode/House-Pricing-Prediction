{
 "cells": [
  {
   "metadata": {
    "ExecuteTime": {
     "end_time": "2024-06-03T09:36:50.193453Z",
     "start_time": "2024-06-03T09:36:50.186613Z"
    }
   },
   "cell_type": "code",
   "source": [
    "from mapping import column_descriptions\n",
    "import matplotlib.pyplot as plt\n",
    "import seaborn as sns\n",
    "import pandas as pd\n",
    "import warnings\n",
    "import numpy as np\n",
    "from sklearn.model_selection import train_test_split\n",
    "from sklearn.metrics import mean_squared_error\n",
    "from sklearn.preprocessing import LabelEncoder\n",
    "from sklearn.model_selection import RandomizedSearchCV\n",
    "from scipy.stats import iqr\n",
    "import xgboost as xgb\n",
    "\n",
    "from scipy import stats\n",
    "from scipy.stats import norm, skew\n",
    "\n",
    "warnings.filterwarnings(\"ignore\")\n",
    "\n",
    "onefig_size = (10, 4)\n",
    "multifigs_size = (12, 4)"
   ],
   "id": "85b4b0df77107825",
   "outputs": [],
   "execution_count": 103
  },
  {
   "metadata": {},
   "cell_type": "markdown",
   "source": [
    "# Dataset Overview\n",
    "The dataset includes 1460 rows and 81 columns. Each row represents a house and each column represents a feature of the house. The target column is 'SalePrice'. Here are 20/81 of the key features:\n",
    "\n",
    "- **SalePrice (Target Variable)**: This column is essential for your analysis as it represents the property's sale price that you're trying to predict.\n",
    "\n",
    "- **OverallQual**: This column represents the overall material and finish quality of the property. It can be a significant factor in determining the sale price.\n",
    "\n",
    "- **GrLivArea**: The above-grade living area in square feet can have a significant impact on the property's value.\n",
    "\n",
    "- **GarageCars**: The size of the garage in terms of car capacity can be an important feature affecting the property's price.\n",
    "\n",
    "- **TotalBsmtSF**: The total square feet of the basement area can also play a crucial role in determining the property's value.\n",
    "\n",
    "- **1stFlrSF**: The square footage of the first floor can be a valuable feature in estimating the property's price.\n",
    "\n",
    "- **FullBath**: The number of full bathrooms above grade can be an influential factor for potential buyers.\n",
    "\n",
    "- **TotRmsAbvGrd**: The total number of rooms above grade (excluding bathrooms) can provide insight into the property's size and functionality.\n",
    "\n",
    "- **YearBuilt**: The original construction date of the property can affect its value, considering factors such as architectural style and historical significance.\n",
    "\n",
    "- **YearRemodAdd**: The remodel date can indicate if any recent renovations or improvements were made, which can impact the property's price.\n",
    "\n",
    "- **Neighborhood**: The physical location within Ames city limits can have a significant influence on property values based on factors like amenities, schools, and desirability.\n",
    "\n",
    "- **MasVnrArea**: The masonry veneer area in square feet can add aesthetic value to the property and impact its price.\n",
    "\n",
    "- **GarageArea**: The size of the garage in square feet is another essential factor to consider.\n",
    "\n",
    "- **BsmtFinSF1**: The type 1 finished square feet of the basement area can contribute to the property's value.\n",
    "\n",
    "- **OpenPorchSF**: The square footage of the open porch area can enhance the property's appeal and potentially increase its value.\n",
    "\n",
    "- **WoodDeckSF**: The area of the wood deck in square feet can be an attractive feature for buyers and impact the property's price.\n",
    "\n",
    "- **2ndFlrSF**: The square footage of the second floor can provide additional living space and influence the property's value.\n",
    "\n",
    "- **HalfBath**: The number of half baths above grade can be a useful feature for buyers and affect the property's price.\n",
    "\n",
    "- **LotArea**: The size of the lot in square feet can be a relevant factor in determining the property's value.\n",
    "\n",
    "- **KitchenQual**: The quality of the kitchen can significantly impact the property's desirability and price.,\n",
    "\n",
    "- **...**"
   ],
   "id": "8a77807f92f26ee"
  },
  {
   "metadata": {
    "ExecuteTime": {
     "end_time": "2024-06-03T09:36:50.567221Z",
     "start_time": "2024-06-03T09:36:50.537992Z"
    }
   },
   "cell_type": "code",
   "source": [
    "file_path = 'data/house_pricing_train.csv'\n",
    "\n",
    "original_df = pd.read_csv(file_path)\n",
    "\n",
    "print(original_df.head())\n",
    "print(\"Number of rows:\", original_df.shape[0])"
   ],
   "id": "fbc121e30a2defb3",
   "outputs": [
    {
     "name": "stdout",
     "output_type": "stream",
     "text": [
      "   Id  MSSubClass MSZoning  LotFrontage  LotArea Street Alley LotShape  \\\n",
      "0   1          60       RL         65.0     8450   Pave   NaN      Reg   \n",
      "1   2          20       RL         80.0     9600   Pave   NaN      Reg   \n",
      "2   3          60       RL         68.0    11250   Pave   NaN      IR1   \n",
      "3   4          70       RL         60.0     9550   Pave   NaN      IR1   \n",
      "4   5          60       RL         84.0    14260   Pave   NaN      IR1   \n",
      "\n",
      "  LandContour Utilities  ... PoolArea PoolQC Fence MiscFeature MiscVal MoSold  \\\n",
      "0         Lvl    AllPub  ...        0    NaN   NaN         NaN       0      2   \n",
      "1         Lvl    AllPub  ...        0    NaN   NaN         NaN       0      5   \n",
      "2         Lvl    AllPub  ...        0    NaN   NaN         NaN       0      9   \n",
      "3         Lvl    AllPub  ...        0    NaN   NaN         NaN       0      2   \n",
      "4         Lvl    AllPub  ...        0    NaN   NaN         NaN       0     12   \n",
      "\n",
      "  YrSold  SaleType  SaleCondition  SalePrice  \n",
      "0   2008        WD         Normal     208500  \n",
      "1   2007        WD         Normal     181500  \n",
      "2   2008        WD         Normal     223500  \n",
      "3   2006        WD        Abnorml     140000  \n",
      "4   2008        WD         Normal     250000  \n",
      "\n",
      "[5 rows x 81 columns]\n",
      "Number of rows: 1460\n"
     ]
    }
   ],
   "execution_count": 104
  },
  {
   "metadata": {
    "ExecuteTime": {
     "end_time": "2024-06-03T09:36:50.583808Z",
     "start_time": "2024-06-03T09:36:50.568404Z"
    }
   },
   "cell_type": "code",
   "source": [
    "original_df.info()\n",
    "# listing categorical and numerical columns\n",
    "categorical_columns = original_df.select_dtypes(include=['object']).columns\n",
    "numerical_columns = original_df.select_dtypes(exclude=['object']).columns\n",
    "print(\"Categorical columns:\", categorical_columns)\n",
    "print(\"Numerical columns:\", numerical_columns)\n"
   ],
   "id": "479ccfbfa54d5b5f",
   "outputs": [
    {
     "name": "stdout",
     "output_type": "stream",
     "text": [
      "<class 'pandas.core.frame.DataFrame'>\n",
      "RangeIndex: 1460 entries, 0 to 1459\n",
      "Data columns (total 81 columns):\n",
      " #   Column         Non-Null Count  Dtype  \n",
      "---  ------         --------------  -----  \n",
      " 0   Id             1460 non-null   int64  \n",
      " 1   MSSubClass     1460 non-null   int64  \n",
      " 2   MSZoning       1460 non-null   object \n",
      " 3   LotFrontage    1201 non-null   float64\n",
      " 4   LotArea        1460 non-null   int64  \n",
      " 5   Street         1460 non-null   object \n",
      " 6   Alley          91 non-null     object \n",
      " 7   LotShape       1460 non-null   object \n",
      " 8   LandContour    1460 non-null   object \n",
      " 9   Utilities      1460 non-null   object \n",
      " 10  LotConfig      1460 non-null   object \n",
      " 11  LandSlope      1460 non-null   object \n",
      " 12  Neighborhood   1460 non-null   object \n",
      " 13  Condition1     1460 non-null   object \n",
      " 14  Condition2     1460 non-null   object \n",
      " 15  BldgType       1460 non-null   object \n",
      " 16  HouseStyle     1460 non-null   object \n",
      " 17  OverallQual    1460 non-null   int64  \n",
      " 18  OverallCond    1460 non-null   int64  \n",
      " 19  YearBuilt      1460 non-null   int64  \n",
      " 20  YearRemodAdd   1460 non-null   int64  \n",
      " 21  RoofStyle      1460 non-null   object \n",
      " 22  RoofMatl       1460 non-null   object \n",
      " 23  Exterior1st    1460 non-null   object \n",
      " 24  Exterior2nd    1460 non-null   object \n",
      " 25  MasVnrType     588 non-null    object \n",
      " 26  MasVnrArea     1452 non-null   float64\n",
      " 27  ExterQual      1460 non-null   object \n",
      " 28  ExterCond      1460 non-null   object \n",
      " 29  Foundation     1460 non-null   object \n",
      " 30  BsmtQual       1423 non-null   object \n",
      " 31  BsmtCond       1423 non-null   object \n",
      " 32  BsmtExposure   1422 non-null   object \n",
      " 33  BsmtFinType1   1423 non-null   object \n",
      " 34  BsmtFinSF1     1460 non-null   int64  \n",
      " 35  BsmtFinType2   1422 non-null   object \n",
      " 36  BsmtFinSF2     1460 non-null   int64  \n",
      " 37  BsmtUnfSF      1460 non-null   int64  \n",
      " 38  TotalBsmtSF    1460 non-null   int64  \n",
      " 39  Heating        1460 non-null   object \n",
      " 40  HeatingQC      1460 non-null   object \n",
      " 41  CentralAir     1460 non-null   object \n",
      " 42  Electrical     1459 non-null   object \n",
      " 43  1stFlrSF       1460 non-null   int64  \n",
      " 44  2ndFlrSF       1460 non-null   int64  \n",
      " 45  LowQualFinSF   1460 non-null   int64  \n",
      " 46  GrLivArea      1460 non-null   int64  \n",
      " 47  BsmtFullBath   1460 non-null   int64  \n",
      " 48  BsmtHalfBath   1460 non-null   int64  \n",
      " 49  FullBath       1460 non-null   int64  \n",
      " 50  HalfBath       1460 non-null   int64  \n",
      " 51  BedroomAbvGr   1460 non-null   int64  \n",
      " 52  KitchenAbvGr   1460 non-null   int64  \n",
      " 53  KitchenQual    1460 non-null   object \n",
      " 54  TotRmsAbvGrd   1460 non-null   int64  \n",
      " 55  Functional     1460 non-null   object \n",
      " 56  Fireplaces     1460 non-null   int64  \n",
      " 57  FireplaceQu    770 non-null    object \n",
      " 58  GarageType     1379 non-null   object \n",
      " 59  GarageYrBlt    1379 non-null   float64\n",
      " 60  GarageFinish   1379 non-null   object \n",
      " 61  GarageCars     1460 non-null   int64  \n",
      " 62  GarageArea     1460 non-null   int64  \n",
      " 63  GarageQual     1379 non-null   object \n",
      " 64  GarageCond     1379 non-null   object \n",
      " 65  PavedDrive     1460 non-null   object \n",
      " 66  WoodDeckSF     1460 non-null   int64  \n",
      " 67  OpenPorchSF    1460 non-null   int64  \n",
      " 68  EnclosedPorch  1460 non-null   int64  \n",
      " 69  3SsnPorch      1460 non-null   int64  \n",
      " 70  ScreenPorch    1460 non-null   int64  \n",
      " 71  PoolArea       1460 non-null   int64  \n",
      " 72  PoolQC         7 non-null      object \n",
      " 73  Fence          281 non-null    object \n",
      " 74  MiscFeature    54 non-null     object \n",
      " 75  MiscVal        1460 non-null   int64  \n",
      " 76  MoSold         1460 non-null   int64  \n",
      " 77  YrSold         1460 non-null   int64  \n",
      " 78  SaleType       1460 non-null   object \n",
      " 79  SaleCondition  1460 non-null   object \n",
      " 80  SalePrice      1460 non-null   int64  \n",
      "dtypes: float64(3), int64(35), object(43)\n",
      "memory usage: 924.0+ KB\n",
      "Categorical columns: Index(['MSZoning', 'Street', 'Alley', 'LotShape', 'LandContour', 'Utilities',\n",
      "       'LotConfig', 'LandSlope', 'Neighborhood', 'Condition1', 'Condition2',\n",
      "       'BldgType', 'HouseStyle', 'RoofStyle', 'RoofMatl', 'Exterior1st',\n",
      "       'Exterior2nd', 'MasVnrType', 'ExterQual', 'ExterCond', 'Foundation',\n",
      "       'BsmtQual', 'BsmtCond', 'BsmtExposure', 'BsmtFinType1', 'BsmtFinType2',\n",
      "       'Heating', 'HeatingQC', 'CentralAir', 'Electrical', 'KitchenQual',\n",
      "       'Functional', 'FireplaceQu', 'GarageType', 'GarageFinish', 'GarageQual',\n",
      "       'GarageCond', 'PavedDrive', 'PoolQC', 'Fence', 'MiscFeature',\n",
      "       'SaleType', 'SaleCondition'],\n",
      "      dtype='object')\n",
      "Numerical columns: Index(['Id', 'MSSubClass', 'LotFrontage', 'LotArea', 'OverallQual',\n",
      "       'OverallCond', 'YearBuilt', 'YearRemodAdd', 'MasVnrArea', 'BsmtFinSF1',\n",
      "       'BsmtFinSF2', 'BsmtUnfSF', 'TotalBsmtSF', '1stFlrSF', '2ndFlrSF',\n",
      "       'LowQualFinSF', 'GrLivArea', 'BsmtFullBath', 'BsmtHalfBath', 'FullBath',\n",
      "       'HalfBath', 'BedroomAbvGr', 'KitchenAbvGr', 'TotRmsAbvGrd',\n",
      "       'Fireplaces', 'GarageYrBlt', 'GarageCars', 'GarageArea', 'WoodDeckSF',\n",
      "       'OpenPorchSF', 'EnclosedPorch', '3SsnPorch', 'ScreenPorch', 'PoolArea',\n",
      "       'MiscVal', 'MoSold', 'YrSold', 'SalePrice'],\n",
      "      dtype='object')\n"
     ]
    }
   ],
   "execution_count": 105
  },
  {
   "metadata": {
    "ExecuteTime": {
     "end_time": "2024-06-03T09:36:50.592937Z",
     "start_time": "2024-06-03T09:36:50.584812Z"
    }
   },
   "cell_type": "code",
   "source": "set(original_df['YearRemodAdd'])",
   "id": "fa7ad6ea17dcb498",
   "outputs": [
    {
     "data": {
      "text/plain": [
       "{1950,\n",
       " 1951,\n",
       " 1952,\n",
       " 1953,\n",
       " 1954,\n",
       " 1955,\n",
       " 1956,\n",
       " 1957,\n",
       " 1958,\n",
       " 1959,\n",
       " 1960,\n",
       " 1961,\n",
       " 1962,\n",
       " 1963,\n",
       " 1964,\n",
       " 1965,\n",
       " 1966,\n",
       " 1967,\n",
       " 1968,\n",
       " 1969,\n",
       " 1970,\n",
       " 1971,\n",
       " 1972,\n",
       " 1973,\n",
       " 1974,\n",
       " 1975,\n",
       " 1976,\n",
       " 1977,\n",
       " 1978,\n",
       " 1979,\n",
       " 1980,\n",
       " 1981,\n",
       " 1982,\n",
       " 1983,\n",
       " 1984,\n",
       " 1985,\n",
       " 1986,\n",
       " 1987,\n",
       " 1988,\n",
       " 1989,\n",
       " 1990,\n",
       " 1991,\n",
       " 1992,\n",
       " 1993,\n",
       " 1994,\n",
       " 1995,\n",
       " 1996,\n",
       " 1997,\n",
       " 1998,\n",
       " 1999,\n",
       " 2000,\n",
       " 2001,\n",
       " 2002,\n",
       " 2003,\n",
       " 2004,\n",
       " 2005,\n",
       " 2006,\n",
       " 2007,\n",
       " 2008,\n",
       " 2009,\n",
       " 2010}"
      ]
     },
     "execution_count": 106,
     "metadata": {},
     "output_type": "execute_result"
    }
   ],
   "execution_count": 106
  },
  {
   "metadata": {},
   "cell_type": "markdown",
   "source": [
    "-----------------------------------------------------------------------\n",
    "Next we find the categorical variables among the numerical columns. We can identify categorical variables by checking the ratio of unique values to the total number of values in a column. If this ratio is below a certain threshold, we can consider the column as categorical. In this case, we set the threshold to 0.05 (5%).\n",
    "And then change the data type of these columns to 'object'."
   ],
   "id": "f3b2919d463f75c1"
  },
  {
   "metadata": {
    "ExecuteTime": {
     "end_time": "2024-06-03T09:36:50.636227Z",
     "start_time": "2024-06-03T09:36:50.620089Z"
    }
   },
   "cell_type": "code",
   "source": [
    "data_types = original_df.dtypes\n",
    "\n",
    "# Identify columns with numeric data types\n",
    "numeric_columns = data_types[data_types != 'object'].index.tolist()\n",
    "\n",
    "# Identify categorical variables among the numeric columns\n",
    "categorical_vars = []\n",
    "for column in numeric_columns:\n",
    "    unique_values = original_df[column].nunique()\n",
    "    total_values = len(original_df[column])\n",
    "    if unique_values / total_values < 0.05:  # Set a threshold for categorical variables\n",
    "        categorical_vars.append(column)\n",
    "\n",
    "# Print the categorical variables\n",
    "print(\"Categorical Variables (Numeric):\")\n",
    "print(categorical_vars)\n",
    "\n",
    "# Change the data type of these columns to 'object'\n",
    "original_df[categorical_vars] = original_df[categorical_vars].astype('object')"
   ],
   "id": "199df736f2dff1f8",
   "outputs": [
    {
     "name": "stdout",
     "output_type": "stream",
     "text": [
      "Categorical Variables (Numeric):\n",
      "['MSSubClass', 'OverallQual', 'OverallCond', 'YearRemodAdd', 'LowQualFinSF', 'BsmtFullBath', 'BsmtHalfBath', 'FullBath', 'HalfBath', 'BedroomAbvGr', 'KitchenAbvGr', 'TotRmsAbvGrd', 'Fireplaces', 'GarageCars', '3SsnPorch', 'PoolArea', 'MiscVal', 'MoSold', 'YrSold']\n"
     ]
    }
   ],
   "execution_count": 107
  },
  {
   "metadata": {},
   "cell_type": "markdown",
   "source": [
    "----------------------------------------------------------------------- \n",
    "Remove id column because it is not useful for the analysis."
   ],
   "id": "e436b1530e565a18"
  },
  {
   "metadata": {
    "ExecuteTime": {
     "end_time": "2024-06-03T09:36:50.666165Z",
     "start_time": "2024-06-03T09:36:50.654193Z"
    }
   },
   "cell_type": "code",
   "source": [
    "original_df.drop('Id', axis=1, inplace=True)\n",
    "original_df.columns"
   ],
   "id": "d76a564acd10d78f",
   "outputs": [
    {
     "data": {
      "text/plain": [
       "Index(['MSSubClass', 'MSZoning', 'LotFrontage', 'LotArea', 'Street', 'Alley',\n",
       "       'LotShape', 'LandContour', 'Utilities', 'LotConfig', 'LandSlope',\n",
       "       'Neighborhood', 'Condition1', 'Condition2', 'BldgType', 'HouseStyle',\n",
       "       'OverallQual', 'OverallCond', 'YearBuilt', 'YearRemodAdd', 'RoofStyle',\n",
       "       'RoofMatl', 'Exterior1st', 'Exterior2nd', 'MasVnrType', 'MasVnrArea',\n",
       "       'ExterQual', 'ExterCond', 'Foundation', 'BsmtQual', 'BsmtCond',\n",
       "       'BsmtExposure', 'BsmtFinType1', 'BsmtFinSF1', 'BsmtFinType2',\n",
       "       'BsmtFinSF2', 'BsmtUnfSF', 'TotalBsmtSF', 'Heating', 'HeatingQC',\n",
       "       'CentralAir', 'Electrical', '1stFlrSF', '2ndFlrSF', 'LowQualFinSF',\n",
       "       'GrLivArea', 'BsmtFullBath', 'BsmtHalfBath', 'FullBath', 'HalfBath',\n",
       "       'BedroomAbvGr', 'KitchenAbvGr', 'KitchenQual', 'TotRmsAbvGrd',\n",
       "       'Functional', 'Fireplaces', 'FireplaceQu', 'GarageType', 'GarageYrBlt',\n",
       "       'GarageFinish', 'GarageCars', 'GarageArea', 'GarageQual', 'GarageCond',\n",
       "       'PavedDrive', 'WoodDeckSF', 'OpenPorchSF', 'EnclosedPorch', '3SsnPorch',\n",
       "       'ScreenPorch', 'PoolArea', 'PoolQC', 'Fence', 'MiscFeature', 'MiscVal',\n",
       "       'MoSold', 'YrSold', 'SaleType', 'SaleCondition', 'SalePrice'],\n",
       "      dtype='object')"
      ]
     },
     "execution_count": 108,
     "metadata": {},
     "output_type": "execute_result"
    }
   ],
   "execution_count": 108
  },
  {
   "metadata": {},
   "cell_type": "markdown",
   "source": [
    "-----------------------------------------------------------------------\n",
    "Next, let's find out more information about the numerical variables:"
   ],
   "id": "fec248e434e58c0e"
  },
  {
   "metadata": {
    "ExecuteTime": {
     "end_time": "2024-06-03T09:36:50.795107Z",
     "start_time": "2024-06-03T09:36:50.754504Z"
    }
   },
   "cell_type": "code",
   "source": "original_df.describe()",
   "id": "1e8187aa4b57c07d",
   "outputs": [
    {
     "data": {
      "text/plain": [
       "       LotFrontage        LotArea    YearBuilt   MasVnrArea   BsmtFinSF1  \\\n",
       "count  1201.000000    1460.000000  1460.000000  1452.000000  1460.000000   \n",
       "mean     70.049958   10516.828082  1971.267808   103.685262   443.639726   \n",
       "std      24.284752    9981.264932    30.202904   181.066207   456.098091   \n",
       "min      21.000000    1300.000000  1872.000000     0.000000     0.000000   \n",
       "25%      59.000000    7553.500000  1954.000000     0.000000     0.000000   \n",
       "50%      69.000000    9478.500000  1973.000000     0.000000   383.500000   \n",
       "75%      80.000000   11601.500000  2000.000000   166.000000   712.250000   \n",
       "max     313.000000  215245.000000  2010.000000  1600.000000  5644.000000   \n",
       "\n",
       "        BsmtFinSF2    BsmtUnfSF  TotalBsmtSF     1stFlrSF     2ndFlrSF  \\\n",
       "count  1460.000000  1460.000000  1460.000000  1460.000000  1460.000000   \n",
       "mean     46.549315   567.240411  1057.429452  1162.626712   346.992466   \n",
       "std     161.319273   441.866955   438.705324   386.587738   436.528436   \n",
       "min       0.000000     0.000000     0.000000   334.000000     0.000000   \n",
       "25%       0.000000   223.000000   795.750000   882.000000     0.000000   \n",
       "50%       0.000000   477.500000   991.500000  1087.000000     0.000000   \n",
       "75%       0.000000   808.000000  1298.250000  1391.250000   728.000000   \n",
       "max    1474.000000  2336.000000  6110.000000  4692.000000  2065.000000   \n",
       "\n",
       "         GrLivArea  GarageYrBlt   GarageArea   WoodDeckSF  OpenPorchSF  \\\n",
       "count  1460.000000  1379.000000  1460.000000  1460.000000  1460.000000   \n",
       "mean   1515.463699  1978.506164   472.980137    94.244521    46.660274   \n",
       "std     525.480383    24.689725   213.804841   125.338794    66.256028   \n",
       "min     334.000000  1900.000000     0.000000     0.000000     0.000000   \n",
       "25%    1129.500000  1961.000000   334.500000     0.000000     0.000000   \n",
       "50%    1464.000000  1980.000000   480.000000     0.000000    25.000000   \n",
       "75%    1776.750000  2002.000000   576.000000   168.000000    68.000000   \n",
       "max    5642.000000  2010.000000  1418.000000   857.000000   547.000000   \n",
       "\n",
       "       EnclosedPorch  ScreenPorch      SalePrice  \n",
       "count    1460.000000  1460.000000    1460.000000  \n",
       "mean       21.954110    15.060959  180921.195890  \n",
       "std        61.119149    55.757415   79442.502883  \n",
       "min         0.000000     0.000000   34900.000000  \n",
       "25%         0.000000     0.000000  129975.000000  \n",
       "50%         0.000000     0.000000  163000.000000  \n",
       "75%         0.000000     0.000000  214000.000000  \n",
       "max       552.000000   480.000000  755000.000000  "
      ],
      "text/html": [
       "<div>\n",
       "<style scoped>\n",
       "    .dataframe tbody tr th:only-of-type {\n",
       "        vertical-align: middle;\n",
       "    }\n",
       "\n",
       "    .dataframe tbody tr th {\n",
       "        vertical-align: top;\n",
       "    }\n",
       "\n",
       "    .dataframe thead th {\n",
       "        text-align: right;\n",
       "    }\n",
       "</style>\n",
       "<table border=\"1\" class=\"dataframe\">\n",
       "  <thead>\n",
       "    <tr style=\"text-align: right;\">\n",
       "      <th></th>\n",
       "      <th>LotFrontage</th>\n",
       "      <th>LotArea</th>\n",
       "      <th>YearBuilt</th>\n",
       "      <th>MasVnrArea</th>\n",
       "      <th>BsmtFinSF1</th>\n",
       "      <th>BsmtFinSF2</th>\n",
       "      <th>BsmtUnfSF</th>\n",
       "      <th>TotalBsmtSF</th>\n",
       "      <th>1stFlrSF</th>\n",
       "      <th>2ndFlrSF</th>\n",
       "      <th>GrLivArea</th>\n",
       "      <th>GarageYrBlt</th>\n",
       "      <th>GarageArea</th>\n",
       "      <th>WoodDeckSF</th>\n",
       "      <th>OpenPorchSF</th>\n",
       "      <th>EnclosedPorch</th>\n",
       "      <th>ScreenPorch</th>\n",
       "      <th>SalePrice</th>\n",
       "    </tr>\n",
       "  </thead>\n",
       "  <tbody>\n",
       "    <tr>\n",
       "      <th>count</th>\n",
       "      <td>1201.000000</td>\n",
       "      <td>1460.000000</td>\n",
       "      <td>1460.000000</td>\n",
       "      <td>1452.000000</td>\n",
       "      <td>1460.000000</td>\n",
       "      <td>1460.000000</td>\n",
       "      <td>1460.000000</td>\n",
       "      <td>1460.000000</td>\n",
       "      <td>1460.000000</td>\n",
       "      <td>1460.000000</td>\n",
       "      <td>1460.000000</td>\n",
       "      <td>1379.000000</td>\n",
       "      <td>1460.000000</td>\n",
       "      <td>1460.000000</td>\n",
       "      <td>1460.000000</td>\n",
       "      <td>1460.000000</td>\n",
       "      <td>1460.000000</td>\n",
       "      <td>1460.000000</td>\n",
       "    </tr>\n",
       "    <tr>\n",
       "      <th>mean</th>\n",
       "      <td>70.049958</td>\n",
       "      <td>10516.828082</td>\n",
       "      <td>1971.267808</td>\n",
       "      <td>103.685262</td>\n",
       "      <td>443.639726</td>\n",
       "      <td>46.549315</td>\n",
       "      <td>567.240411</td>\n",
       "      <td>1057.429452</td>\n",
       "      <td>1162.626712</td>\n",
       "      <td>346.992466</td>\n",
       "      <td>1515.463699</td>\n",
       "      <td>1978.506164</td>\n",
       "      <td>472.980137</td>\n",
       "      <td>94.244521</td>\n",
       "      <td>46.660274</td>\n",
       "      <td>21.954110</td>\n",
       "      <td>15.060959</td>\n",
       "      <td>180921.195890</td>\n",
       "    </tr>\n",
       "    <tr>\n",
       "      <th>std</th>\n",
       "      <td>24.284752</td>\n",
       "      <td>9981.264932</td>\n",
       "      <td>30.202904</td>\n",
       "      <td>181.066207</td>\n",
       "      <td>456.098091</td>\n",
       "      <td>161.319273</td>\n",
       "      <td>441.866955</td>\n",
       "      <td>438.705324</td>\n",
       "      <td>386.587738</td>\n",
       "      <td>436.528436</td>\n",
       "      <td>525.480383</td>\n",
       "      <td>24.689725</td>\n",
       "      <td>213.804841</td>\n",
       "      <td>125.338794</td>\n",
       "      <td>66.256028</td>\n",
       "      <td>61.119149</td>\n",
       "      <td>55.757415</td>\n",
       "      <td>79442.502883</td>\n",
       "    </tr>\n",
       "    <tr>\n",
       "      <th>min</th>\n",
       "      <td>21.000000</td>\n",
       "      <td>1300.000000</td>\n",
       "      <td>1872.000000</td>\n",
       "      <td>0.000000</td>\n",
       "      <td>0.000000</td>\n",
       "      <td>0.000000</td>\n",
       "      <td>0.000000</td>\n",
       "      <td>0.000000</td>\n",
       "      <td>334.000000</td>\n",
       "      <td>0.000000</td>\n",
       "      <td>334.000000</td>\n",
       "      <td>1900.000000</td>\n",
       "      <td>0.000000</td>\n",
       "      <td>0.000000</td>\n",
       "      <td>0.000000</td>\n",
       "      <td>0.000000</td>\n",
       "      <td>0.000000</td>\n",
       "      <td>34900.000000</td>\n",
       "    </tr>\n",
       "    <tr>\n",
       "      <th>25%</th>\n",
       "      <td>59.000000</td>\n",
       "      <td>7553.500000</td>\n",
       "      <td>1954.000000</td>\n",
       "      <td>0.000000</td>\n",
       "      <td>0.000000</td>\n",
       "      <td>0.000000</td>\n",
       "      <td>223.000000</td>\n",
       "      <td>795.750000</td>\n",
       "      <td>882.000000</td>\n",
       "      <td>0.000000</td>\n",
       "      <td>1129.500000</td>\n",
       "      <td>1961.000000</td>\n",
       "      <td>334.500000</td>\n",
       "      <td>0.000000</td>\n",
       "      <td>0.000000</td>\n",
       "      <td>0.000000</td>\n",
       "      <td>0.000000</td>\n",
       "      <td>129975.000000</td>\n",
       "    </tr>\n",
       "    <tr>\n",
       "      <th>50%</th>\n",
       "      <td>69.000000</td>\n",
       "      <td>9478.500000</td>\n",
       "      <td>1973.000000</td>\n",
       "      <td>0.000000</td>\n",
       "      <td>383.500000</td>\n",
       "      <td>0.000000</td>\n",
       "      <td>477.500000</td>\n",
       "      <td>991.500000</td>\n",
       "      <td>1087.000000</td>\n",
       "      <td>0.000000</td>\n",
       "      <td>1464.000000</td>\n",
       "      <td>1980.000000</td>\n",
       "      <td>480.000000</td>\n",
       "      <td>0.000000</td>\n",
       "      <td>25.000000</td>\n",
       "      <td>0.000000</td>\n",
       "      <td>0.000000</td>\n",
       "      <td>163000.000000</td>\n",
       "    </tr>\n",
       "    <tr>\n",
       "      <th>75%</th>\n",
       "      <td>80.000000</td>\n",
       "      <td>11601.500000</td>\n",
       "      <td>2000.000000</td>\n",
       "      <td>166.000000</td>\n",
       "      <td>712.250000</td>\n",
       "      <td>0.000000</td>\n",
       "      <td>808.000000</td>\n",
       "      <td>1298.250000</td>\n",
       "      <td>1391.250000</td>\n",
       "      <td>728.000000</td>\n",
       "      <td>1776.750000</td>\n",
       "      <td>2002.000000</td>\n",
       "      <td>576.000000</td>\n",
       "      <td>168.000000</td>\n",
       "      <td>68.000000</td>\n",
       "      <td>0.000000</td>\n",
       "      <td>0.000000</td>\n",
       "      <td>214000.000000</td>\n",
       "    </tr>\n",
       "    <tr>\n",
       "      <th>max</th>\n",
       "      <td>313.000000</td>\n",
       "      <td>215245.000000</td>\n",
       "      <td>2010.000000</td>\n",
       "      <td>1600.000000</td>\n",
       "      <td>5644.000000</td>\n",
       "      <td>1474.000000</td>\n",
       "      <td>2336.000000</td>\n",
       "      <td>6110.000000</td>\n",
       "      <td>4692.000000</td>\n",
       "      <td>2065.000000</td>\n",
       "      <td>5642.000000</td>\n",
       "      <td>2010.000000</td>\n",
       "      <td>1418.000000</td>\n",
       "      <td>857.000000</td>\n",
       "      <td>547.000000</td>\n",
       "      <td>552.000000</td>\n",
       "      <td>480.000000</td>\n",
       "      <td>755000.000000</td>\n",
       "    </tr>\n",
       "  </tbody>\n",
       "</table>\n",
       "</div>"
      ]
     },
     "execution_count": 109,
     "metadata": {},
     "output_type": "execute_result"
    }
   ],
   "execution_count": 109
  },
  {
   "metadata": {},
   "cell_type": "markdown",
   "source": [
    "LotFrontage has a range of values from 21 to 313.0,\n",
    "MasVnrArea has a range of values from 0 to 1600.0,\n",
    "GarageYrBlt has a range of values from 1900 to 2010.\n",
    "...\n",
    "\n",
    "These columns have outliers, which can affect the model's performance. We will handle these outliers in the data preprocessing step.\n"
   ],
   "id": "2c25998e900839a1"
  },
  {
   "metadata": {},
   "cell_type": "markdown",
   "source": [
    "-----------------------------------------------------------------------\n",
    "## Data Cleaning"
   ],
   "id": "3b9c2cc6f4ffcda8"
  },
  {
   "metadata": {},
   "cell_type": "markdown",
   "source": "At first, we make a copy of the original dataframe to keep the original data unchanged.",
   "id": "e1a0bac07d3d9575"
  },
  {
   "metadata": {
    "ExecuteTime": {
     "end_time": "2024-06-03T09:36:50.817118Z",
     "start_time": "2024-06-03T09:36:50.809896Z"
    }
   },
   "cell_type": "code",
   "source": "df = original_df.copy()",
   "id": "e76e4883e3ed4874",
   "outputs": [],
   "execution_count": 110
  },
  {
   "metadata": {},
   "cell_type": "markdown",
   "source": "# Data duplication",
   "id": "87a9fa0a08d7acdc"
  },
  {
   "metadata": {
    "ExecuteTime": {
     "end_time": "2024-06-03T09:36:50.911088Z",
     "start_time": "2024-06-03T09:36:50.887076Z"
    }
   },
   "cell_type": "code",
   "source": [
    "dup_ind = df.duplicated()\n",
    "df[dup_ind]"
   ],
   "id": "5aafbaa9a811dec8",
   "outputs": [
    {
     "data": {
      "text/plain": [
       "Empty DataFrame\n",
       "Columns: [MSSubClass, MSZoning, LotFrontage, LotArea, Street, Alley, LotShape, LandContour, Utilities, LotConfig, LandSlope, Neighborhood, Condition1, Condition2, BldgType, HouseStyle, OverallQual, OverallCond, YearBuilt, YearRemodAdd, RoofStyle, RoofMatl, Exterior1st, Exterior2nd, MasVnrType, MasVnrArea, ExterQual, ExterCond, Foundation, BsmtQual, BsmtCond, BsmtExposure, BsmtFinType1, BsmtFinSF1, BsmtFinType2, BsmtFinSF2, BsmtUnfSF, TotalBsmtSF, Heating, HeatingQC, CentralAir, Electrical, 1stFlrSF, 2ndFlrSF, LowQualFinSF, GrLivArea, BsmtFullBath, BsmtHalfBath, FullBath, HalfBath, BedroomAbvGr, KitchenAbvGr, KitchenQual, TotRmsAbvGrd, Functional, Fireplaces, FireplaceQu, GarageType, GarageYrBlt, GarageFinish, GarageCars, GarageArea, GarageQual, GarageCond, PavedDrive, WoodDeckSF, OpenPorchSF, EnclosedPorch, 3SsnPorch, ScreenPorch, PoolArea, PoolQC, Fence, MiscFeature, MiscVal, MoSold, YrSold, SaleType, SaleCondition, SalePrice]\n",
       "Index: []\n",
       "\n",
       "[0 rows x 80 columns]"
      ],
      "text/html": [
       "<div>\n",
       "<style scoped>\n",
       "    .dataframe tbody tr th:only-of-type {\n",
       "        vertical-align: middle;\n",
       "    }\n",
       "\n",
       "    .dataframe tbody tr th {\n",
       "        vertical-align: top;\n",
       "    }\n",
       "\n",
       "    .dataframe thead th {\n",
       "        text-align: right;\n",
       "    }\n",
       "</style>\n",
       "<table border=\"1\" class=\"dataframe\">\n",
       "  <thead>\n",
       "    <tr style=\"text-align: right;\">\n",
       "      <th></th>\n",
       "      <th>MSSubClass</th>\n",
       "      <th>MSZoning</th>\n",
       "      <th>LotFrontage</th>\n",
       "      <th>LotArea</th>\n",
       "      <th>Street</th>\n",
       "      <th>Alley</th>\n",
       "      <th>LotShape</th>\n",
       "      <th>LandContour</th>\n",
       "      <th>Utilities</th>\n",
       "      <th>LotConfig</th>\n",
       "      <th>...</th>\n",
       "      <th>PoolArea</th>\n",
       "      <th>PoolQC</th>\n",
       "      <th>Fence</th>\n",
       "      <th>MiscFeature</th>\n",
       "      <th>MiscVal</th>\n",
       "      <th>MoSold</th>\n",
       "      <th>YrSold</th>\n",
       "      <th>SaleType</th>\n",
       "      <th>SaleCondition</th>\n",
       "      <th>SalePrice</th>\n",
       "    </tr>\n",
       "  </thead>\n",
       "  <tbody>\n",
       "  </tbody>\n",
       "</table>\n",
       "<p>0 rows × 80 columns</p>\n",
       "</div>"
      ]
     },
     "execution_count": 111,
     "metadata": {},
     "output_type": "execute_result"
    }
   ],
   "execution_count": 111
  },
  {
   "metadata": {},
   "cell_type": "markdown",
   "source": "There is no duplicated row in the dataset.",
   "id": "4cd8035e4fd3f3a8"
  },
  {
   "metadata": {},
   "cell_type": "markdown",
   "source": "# Missing values",
   "id": "cab5de642bc522ce"
  },
  {
   "metadata": {
    "ExecuteTime": {
     "end_time": "2024-06-03T09:36:50.936090Z",
     "start_time": "2024-06-03T09:36:50.917335Z"
    }
   },
   "cell_type": "code",
   "source": "df.isnull().sum() * 100 / df.shape[0]",
   "id": "b5f32d63e8090d66",
   "outputs": [
    {
     "data": {
      "text/plain": [
       "MSSubClass        0.000000\n",
       "MSZoning          0.000000\n",
       "LotFrontage      17.739726\n",
       "LotArea           0.000000\n",
       "Street            0.000000\n",
       "                   ...    \n",
       "MoSold            0.000000\n",
       "YrSold            0.000000\n",
       "SaleType          0.000000\n",
       "SaleCondition     0.000000\n",
       "SalePrice         0.000000\n",
       "Length: 80, dtype: float64"
      ]
     },
     "execution_count": 112,
     "metadata": {},
     "output_type": "execute_result"
    }
   ],
   "execution_count": 112
  },
  {
   "metadata": {},
   "cell_type": "markdown",
   "source": "We can see that there are many columns with missing values.",
   "id": "aa2ec034618d2e2d"
  },
  {
   "metadata": {
    "ExecuteTime": {
     "end_time": "2024-06-03T09:36:51.018116Z",
     "start_time": "2024-06-03T09:36:51.010674Z"
    }
   },
   "cell_type": "code",
   "source": [
    "print(set(df['Alley']))\n",
    "print(set(df['PoolQC']))\n",
    "print(set(df['Fence']))\n",
    "print(set(df['MiscFeature']))\n",
    "print(set(df['GarageCond']))\n",
    "print(set(df['GarageQual']))\n",
    "print(set(df['GarageFinish']))\n",
    "print(set(df['GarageType']))\n",
    "print(set(df['FireplaceQu']))\n",
    "print(set(df['BsmtQual']))\n",
    "print(set(df['BsmtCond']))\n",
    "print(set(df['BsmtExposure']))\n",
    "print(set(df['BsmtFinType1']))\n",
    "print(set(df['BsmtFinType2']))\n",
    "print(set(df['MasVnrType']))\n",
    "print(set(df['Electrical']))\n"
   ],
   "id": "3795d4ca34c691f1",
   "outputs": [
    {
     "name": "stdout",
     "output_type": "stream",
     "text": [
      "{'Grvl', nan, 'Pave'}\n",
      "{nan, 'Ex', 'Gd', 'Fa'}\n",
      "{'MnPrv', 'MnWw', 'GdPrv', 'GdWo', nan}\n",
      "{'TenC', 'Othr', 'Shed', 'Gar2', nan}\n",
      "{'Gd', 'Fa', nan, 'Ex', 'TA', 'Po'}\n",
      "{'Po', 'Gd', nan, 'Ex', 'TA', 'Fa'}\n",
      "{'Fin', nan, 'RFn', 'Unf'}\n",
      "{'BuiltIn', 'CarPort', 'Attchd', 'Basment', 'Detchd', '2Types', nan}\n",
      "{'Po', 'Gd', nan, 'Ex', 'TA', 'Fa'}\n",
      "{'Gd', nan, 'Ex', 'TA', 'Fa'}\n",
      "{'Gd', 'Fa', nan, 'TA', 'Po'}\n",
      "{'Mn', 'Av', 'Gd', nan, 'No'}\n",
      "{'LwQ', 'Rec', 'Unf', 'GLQ', 'BLQ', nan, 'ALQ'}\n",
      "{'LwQ', 'Rec', 'Unf', 'GLQ', 'BLQ', nan, 'ALQ'}\n",
      "{'BrkFace', 'BrkCmn', nan, 'Stone'}\n",
      "{'FuseF', 'Mix', 'FuseA', nan, 'SBrkr', 'FuseP'}\n"
     ]
    }
   ],
   "execution_count": 113
  },
  {
   "metadata": {},
   "cell_type": "markdown",
   "source": "because 'nan' in these columns is not missing values, it is a category. We will replace 'nan' with 'No' to distinguish it from missing values.",
   "id": "942651175600f228"
  },
  {
   "metadata": {
    "ExecuteTime": {
     "end_time": "2024-06-03T09:36:51.150558Z",
     "start_time": "2024-06-03T09:36:51.134603Z"
    }
   },
   "cell_type": "code",
   "source": [
    "df['Alley'] = df['Alley'].fillna('No')\n",
    "df['PoolQC'] = df['PoolQC'].fillna('No')\n",
    "df['Fence'] = df['Fence'].fillna('No')\n",
    "df['MiscFeature'] = df['MiscFeature'].fillna('No')\n",
    "df['GarageCond'] = df['GarageCond'].fillna('No')\n",
    "df['GarageQual'] = df['GarageQual'].fillna('No')\n",
    "df['GarageFinish'] = df['GarageFinish'].fillna('No')\n",
    "df['GarageType'] = df['GarageType'].fillna('No')\n",
    "df['FireplaceQu'] = df['FireplaceQu'].fillna('No')\n",
    "df['BsmtQual'] = df['BsmtQual'].fillna('No')\n",
    "df['BsmtCond'] = df['BsmtCond'].fillna('No')\n",
    "df['BsmtExposure'] = df['BsmtExposure'].fillna('No')\n",
    "df['BsmtFinType1'] = df['BsmtFinType1'].fillna('No')\n",
    "df['BsmtFinType2'] = df['BsmtFinType2'].fillna('No')\n",
    "df['MasVnrType'] = df['MasVnrType'].fillna('No')\n",
    "df['Electrical'] = df['Electrical'].fillna('No')"
   ],
   "id": "9892f24d55b96c4b",
   "outputs": [],
   "execution_count": 114
  },
  {
   "metadata": {},
   "cell_type": "markdown",
   "source": "For other numerical columns, we will replace missing values with the median value of the column.",
   "id": "c49d9e03fad4f16"
  },
  {
   "metadata": {},
   "cell_type": "markdown",
   "source": "",
   "id": "9ec4aa8f5b7462ac"
  },
  {
   "metadata": {
    "ExecuteTime": {
     "end_time": "2024-06-03T09:36:51.230600Z",
     "start_time": "2024-06-03T09:36:51.225733Z"
    }
   },
   "cell_type": "code",
   "source": [
    "df['LotFrontage'] = df['LotFrontage'].fillna(df['LotFrontage'].median())\n",
    "df['MasVnrArea'] = df['MasVnrArea'].fillna(df['MasVnrArea'].median())\n",
    "df['GarageYrBlt'] = df['GarageYrBlt'].fillna(df['GarageYrBlt'].median())"
   ],
   "id": "8ab7a784c07bbdc9",
   "outputs": [],
   "execution_count": 115
  },
  {
   "metadata": {},
   "cell_type": "markdown",
   "source": "Let's check the missing values again.",
   "id": "7b14adc776f7416b"
  },
  {
   "metadata": {
    "ExecuteTime": {
     "end_time": "2024-06-03T09:36:51.381045Z",
     "start_time": "2024-06-03T09:36:51.367501Z"
    }
   },
   "cell_type": "code",
   "source": "df.isnull().sum() * 100 / df.shape[0]",
   "id": "5821b92ab18505c4",
   "outputs": [
    {
     "data": {
      "text/plain": [
       "MSSubClass       0.0\n",
       "MSZoning         0.0\n",
       "LotFrontage      0.0\n",
       "LotArea          0.0\n",
       "Street           0.0\n",
       "                ... \n",
       "MoSold           0.0\n",
       "YrSold           0.0\n",
       "SaleType         0.0\n",
       "SaleCondition    0.0\n",
       "SalePrice        0.0\n",
       "Length: 80, dtype: float64"
      ]
     },
     "execution_count": 116,
     "metadata": {},
     "output_type": "execute_result"
    }
   ],
   "execution_count": 116
  },
  {
   "metadata": {},
   "cell_type": "markdown",
   "source": "There are no missing values in the dataset.",
   "id": "6d368e0995f80fa7"
  },
  {
   "metadata": {},
   "cell_type": "markdown",
   "source": [
    "Adding one more important feature to the dataset:\n",
    "\n",
    "Since area related features are very important to determine house prices, we add one more feature which is the total area of basement, first and second floor areas of each house"
   ],
   "id": "90c1ad4ea94257f2"
  },
  {
   "metadata": {
    "ExecuteTime": {
     "end_time": "2024-06-03T09:36:51.401192Z",
     "start_time": "2024-06-03T09:36:51.396516Z"
    }
   },
   "cell_type": "code",
   "source": "df['TotalSF'] = df['TotalBsmtSF'] + df['1stFlrSF'] + df['2ndFlrSF']",
   "id": "c4bf88ab9d85d463",
   "outputs": [],
   "execution_count": 117
  },
  {
   "metadata": {},
   "cell_type": "markdown",
   "source": "Skewed features:",
   "id": "8f09724c919f28f4"
  },
  {
   "metadata": {
    "ExecuteTime": {
     "end_time": "2024-06-03T09:36:51.512497Z",
     "start_time": "2024-06-03T09:36:51.478059Z"
    }
   },
   "cell_type": "code",
   "source": [
    "numeric_feats = df.dtypes[df.dtypes != \"object\"].index\n",
    "\n",
    "# Check the skew of all numerical features\n",
    "skewed_feats = df[numeric_feats].apply(lambda x: skew(x.dropna())).sort_values(ascending=False)\n",
    "print(\"\\nSkew in numerical features: \\n\")\n",
    "skewness = pd.DataFrame({'Skew' :skewed_feats})\n",
    "skewness.head(10)"
   ],
   "id": "596ee95846d50d11",
   "outputs": [
    {
     "name": "stdout",
     "output_type": "stream",
     "text": [
      "\n",
      "Skew in numerical features: \n",
      "\n"
     ]
    },
    {
     "data": {
      "text/plain": [
       "                    Skew\n",
       "LotArea        12.195142\n",
       "BsmtFinSF2      4.250888\n",
       "ScreenPorch     4.117977\n",
       "EnclosedPorch   3.086696\n",
       "MasVnrArea      2.674865\n",
       "LotFrontage     2.406671\n",
       "OpenPorchSF     2.361912\n",
       "SalePrice       1.880941\n",
       "TotalSF         1.774874\n",
       "BsmtFinSF1      1.683771"
      ],
      "text/html": [
       "<div>\n",
       "<style scoped>\n",
       "    .dataframe tbody tr th:only-of-type {\n",
       "        vertical-align: middle;\n",
       "    }\n",
       "\n",
       "    .dataframe tbody tr th {\n",
       "        vertical-align: top;\n",
       "    }\n",
       "\n",
       "    .dataframe thead th {\n",
       "        text-align: right;\n",
       "    }\n",
       "</style>\n",
       "<table border=\"1\" class=\"dataframe\">\n",
       "  <thead>\n",
       "    <tr style=\"text-align: right;\">\n",
       "      <th></th>\n",
       "      <th>Skew</th>\n",
       "    </tr>\n",
       "  </thead>\n",
       "  <tbody>\n",
       "    <tr>\n",
       "      <th>LotArea</th>\n",
       "      <td>12.195142</td>\n",
       "    </tr>\n",
       "    <tr>\n",
       "      <th>BsmtFinSF2</th>\n",
       "      <td>4.250888</td>\n",
       "    </tr>\n",
       "    <tr>\n",
       "      <th>ScreenPorch</th>\n",
       "      <td>4.117977</td>\n",
       "    </tr>\n",
       "    <tr>\n",
       "      <th>EnclosedPorch</th>\n",
       "      <td>3.086696</td>\n",
       "    </tr>\n",
       "    <tr>\n",
       "      <th>MasVnrArea</th>\n",
       "      <td>2.674865</td>\n",
       "    </tr>\n",
       "    <tr>\n",
       "      <th>LotFrontage</th>\n",
       "      <td>2.406671</td>\n",
       "    </tr>\n",
       "    <tr>\n",
       "      <th>OpenPorchSF</th>\n",
       "      <td>2.361912</td>\n",
       "    </tr>\n",
       "    <tr>\n",
       "      <th>SalePrice</th>\n",
       "      <td>1.880941</td>\n",
       "    </tr>\n",
       "    <tr>\n",
       "      <th>TotalSF</th>\n",
       "      <td>1.774874</td>\n",
       "    </tr>\n",
       "    <tr>\n",
       "      <th>BsmtFinSF1</th>\n",
       "      <td>1.683771</td>\n",
       "    </tr>\n",
       "  </tbody>\n",
       "</table>\n",
       "</div>"
      ]
     },
     "execution_count": 118,
     "metadata": {},
     "output_type": "execute_result"
    }
   ],
   "execution_count": 118
  },
  {
   "metadata": {},
   "cell_type": "markdown",
   "source": [
    "Box Cox Transformation of (highly) skewed features\n",
    "\n",
    "We use the scipy function boxcox1p which computes the Box-Cox transformation of  1+x\n",
    " .\n",
    "\n",
    "Note that setting  λ=0\n",
    "  is equivalent to log1p used above for the target variable."
   ],
   "id": "23f300fb7b9818be"
  },
  {
   "metadata": {
    "ExecuteTime": {
     "end_time": "2024-06-03T09:36:51.552212Z",
     "start_time": "2024-06-03T09:36:51.538354Z"
    }
   },
   "cell_type": "code",
   "source": [
    "skewness = skewness[abs(skewness) > 0.75]\n",
    "print(\"There are {} skewed numerical features to Box Cox transform\".format(skewness.shape[0]))\n",
    "\n",
    "from scipy.special import boxcox1p\n",
    "skewed_features = skewness.index\n",
    "lam = 0.15\n",
    "for feat in skewed_features:\n",
    "    #all_data[feat] += 1\n",
    "    df[feat] = boxcox1p(df[feat], lam)\n"
   ],
   "id": "a7acad7c7a83de21",
   "outputs": [
    {
     "name": "stdout",
     "output_type": "stream",
     "text": [
      "There are 19 skewed numerical features to Box Cox transform\n"
     ]
    }
   ],
   "execution_count": 119
  },
  {
   "metadata": {},
   "cell_type": "markdown",
   "source": "**Get dummies for categorical variables:",
   "id": "1214e7d9ff2eb44c"
  },
  {
   "metadata": {
    "ExecuteTime": {
     "end_time": "2024-06-03T09:36:51.678336Z",
     "start_time": "2024-06-03T09:36:51.638018Z"
    }
   },
   "cell_type": "code",
   "source": [
    "df = pd.get_dummies(df)\n",
    "df.shape"
   ],
   "id": "683d51bdd9779c87",
   "outputs": [
    {
     "data": {
      "text/plain": [
       "(1460, 517)"
      ]
     },
     "execution_count": 120,
     "metadata": {},
     "output_type": "execute_result"
    }
   ],
   "execution_count": 120
  },
  {
   "metadata": {},
   "cell_type": "markdown",
   "source": [
    "\n",
    "-----------------------------------------------------------------------\n",
    "# House Price Distribution"
   ],
   "id": "4a794b6496a49f47"
  },
  {
   "metadata": {
    "ExecuteTime": {
     "end_time": "2024-06-03T09:36:52.160508Z",
     "start_time": "2024-06-03T09:36:51.708718Z"
    }
   },
   "cell_type": "code",
   "source": [
    "print(df['SalePrice'].describe())\n",
    "fig, axs = plt.subplots(ncols=2, figsize=multifigs_size)\n",
    "sns.histplot(df['SalePrice'], kde=True, stat='count', ax=axs[0], palette='mako')\n",
    "sns.boxplot(df['SalePrice'], ax=axs[1], palette='mako')\n",
    "plt.tight_layout()"
   ],
   "id": "814d30b15aa59478",
   "outputs": [
    {
     "name": "stdout",
     "output_type": "stream",
     "text": [
      "count    1460.000000\n",
      "mean       33.882984\n",
      "std         2.442600\n",
      "min        25.346926\n",
      "25%        32.326474\n",
      "50%        33.673462\n",
      "75%        35.354791\n",
      "max        44.102598\n",
      "Name: SalePrice, dtype: float64\n"
     ]
    },
    {
     "data": {
      "text/plain": [
       "<Figure size 1200x400 with 2 Axes>"
      ],
      "image/png": "[encoded data removed]"
     },
     "metadata": {},
     "output_type": "display_data"
    }
   ],
   "execution_count": 121
  },
  {
   "metadata": {},
   "cell_type": "markdown",
   "source": "The distribution of the target variable 'SalePrice' is right-skewed. We will transform this variable to make it more normally distributed.",
   "id": "3e30ac75c37e96eb"
  },
  {
   "metadata": {
    "ExecuteTime": {
     "end_time": "2024-06-03T09:36:52.670167Z",
     "start_time": "2024-06-03T09:36:52.162529Z"
    }
   },
   "cell_type": "code",
   "source": [
    "df['SalePrice'] = np.log1p(df['SalePrice'])\n",
    "fig, axs = plt.subplots(ncols=2, figsize=multifigs_size)\n",
    "sns.histplot(df['SalePrice'], kde=True, stat='count', ax=axs[0], palette='mako')\n",
    "sns.boxplot(df['SalePrice'], ax=axs[1], palette='mako')\n",
    "plt.tight_layout()"
   ],
   "id": "b5adf440899c8b9a",
   "outputs": [
    {
     "data": {
      "text/plain": [
       "<Figure size 1200x400 with 2 Axes>"
      ],
      "image/png": "[encoded data removed]"
     },
     "metadata": {},
     "output_type": "display_data"
    }
   ],
   "execution_count": 122
  },
  {
   "metadata": {},
   "cell_type": "markdown",
   "source": [
    "# Categorical Variables\n",
    "\n",
    "Extract dataset with only categorical variables for data visualization."
   ],
   "id": "839bcf12709078fb"
  },
  {
   "metadata": {
    "ExecuteTime": {
     "end_time": "2024-06-03T09:36:52.683044Z",
     "start_time": "2024-06-03T09:36:52.672173Z"
    }
   },
   "cell_type": "code",
   "source": [
    "categorical_df = df.select_dtypes(include=['object']).copy()\n",
    "categorical_df.head()"
   ],
   "id": "8afbc9c952164f4f",
   "outputs": [
    {
     "data": {
      "text/plain": [
       "Empty DataFrame\n",
       "Columns: []\n",
       "Index: [0, 1, 2, 3, 4]"
      ],
      "text/html": [
       "<div>\n",
       "<style scoped>\n",
       "    .dataframe tbody tr th:only-of-type {\n",
       "        vertical-align: middle;\n",
       "    }\n",
       "\n",
       "    .dataframe tbody tr th {\n",
       "        vertical-align: top;\n",
       "    }\n",
       "\n",
       "    .dataframe thead th {\n",
       "        text-align: right;\n",
       "    }\n",
       "</style>\n",
       "<table border=\"1\" class=\"dataframe\">\n",
       "  <thead>\n",
       "    <tr style=\"text-align: right;\">\n",
       "      <th></th>\n",
       "    </tr>\n",
       "  </thead>\n",
       "  <tbody>\n",
       "    <tr>\n",
       "      <th>0</th>\n",
       "    </tr>\n",
       "    <tr>\n",
       "      <th>1</th>\n",
       "    </tr>\n",
       "    <tr>\n",
       "      <th>2</th>\n",
       "    </tr>\n",
       "    <tr>\n",
       "      <th>3</th>\n",
       "    </tr>\n",
       "    <tr>\n",
       "      <th>4</th>\n",
       "    </tr>\n",
       "  </tbody>\n",
       "</table>\n",
       "</div>"
      ]
     },
     "execution_count": 123,
     "metadata": {},
     "output_type": "execute_result"
    }
   ],
   "execution_count": 123
  },
  {
   "metadata": {},
   "cell_type": "markdown",
   "source": "Categorical variables view with bar charts:",
   "id": "c4af3b152f1af1a6"
  },
  {
   "metadata": {
    "ExecuteTime": {
     "end_time": "2024-06-03T09:36:52.745751Z",
     "start_time": "2024-06-03T09:36:52.689611Z"
    }
   },
   "cell_type": "code",
   "source": [
    "num_plot = len(categorical_df.columns)\n",
    "num_cols = min(num_plot, 2)\n",
    "num_rows = int(num_plot / num_cols) + (1 if num_plot % num_cols != 0 else 0)\n",
    "\n",
    "fig, axes = plt.subplots(num_rows, num_cols, figsize=(20, 150))\n",
    "\n",
    "if isinstance(axes, np.ndarray):\n",
    "    list_axes = list(axes.flat)\n",
    "else:\n",
    "    list_axes = [axes]\n",
    "\n",
    "for index, col in enumerate(categorical_df.columns):\n",
    "    df_count = df[col].value_counts()\n",
    "\n",
    "    if (df_count.index.dtype == np.int64):\n",
    "        df_count.index = map(str, df_count.index)\n",
    "\n",
    "    sns.barplot(ax=list_axes[index], x=df_count.values, y=df_count.index, alpha=0.8, palette='mako')\n",
    "    list_axes[index].set_title(col, fontsize=18)\n",
    "    list_axes[index].tick_params(axis=\"x\", labelsize=12)\n",
    "    list_axes[index].tick_params(axis=\"y\", labelsize=12)\n",
    "\n",
    "for i in range(num_plot, len(list_axes)):\n",
    "    list_axes[i].set_visible(False)\n",
    "\n",
    "fig.tight_layout()\n",
    "plt.show()"
   ],
   "id": "c49f6abaee1267bf",
   "outputs": [
    {
     "ename": "ZeroDivisionError",
     "evalue": "division by zero",
     "output_type": "error",
     "traceback": [
      "\u001B[1;31m---------------------------------------------------------------------------\u001B[0m",
      "\u001B[1;31mZeroDivisionError\u001B[0m                         Traceback (most recent call last)",
      "Cell \u001B[1;32mIn[124], line 3\u001B[0m\n\u001B[0;32m      1\u001B[0m num_plot \u001B[38;5;241m=\u001B[39m \u001B[38;5;28mlen\u001B[39m(categorical_df\u001B[38;5;241m.\u001B[39mcolumns)\n\u001B[0;32m      2\u001B[0m num_cols \u001B[38;5;241m=\u001B[39m \u001B[38;5;28mmin\u001B[39m(num_plot, \u001B[38;5;241m2\u001B[39m)\n\u001B[1;32m----> 3\u001B[0m num_rows \u001B[38;5;241m=\u001B[39m \u001B[38;5;28mint\u001B[39m(num_plot \u001B[38;5;241m/\u001B[39m num_cols) \u001B[38;5;241m+\u001B[39m (\u001B[38;5;241m1\u001B[39m \u001B[38;5;28;01mif\u001B[39;00m num_plot \u001B[38;5;241m%\u001B[39m num_cols \u001B[38;5;241m!=\u001B[39m \u001B[38;5;241m0\u001B[39m \u001B[38;5;28;01melse\u001B[39;00m \u001B[38;5;241m0\u001B[39m)\n\u001B[0;32m      5\u001B[0m fig, axes \u001B[38;5;241m=\u001B[39m plt\u001B[38;5;241m.\u001B[39msubplots(num_rows, num_cols, figsize\u001B[38;5;241m=\u001B[39m(\u001B[38;5;241m20\u001B[39m, \u001B[38;5;241m150\u001B[39m))\n\u001B[0;32m      7\u001B[0m \u001B[38;5;28;01mif\u001B[39;00m \u001B[38;5;28misinstance\u001B[39m(axes, np\u001B[38;5;241m.\u001B[39mndarray):\n",
      "\u001B[1;31mZeroDivisionError\u001B[0m: division by zero"
     ]
    }
   ],
   "execution_count": 124
  },
  {
   "metadata": {},
   "cell_type": "markdown",
   "source": "",
   "id": "1199ce7fee7de1f7"
  },
  {
   "metadata": {},
   "cell_type": "markdown",
   "source": "Frequency of categorical variables:",
   "id": "785948d00036a34c"
  },
  {
   "metadata": {},
   "cell_type": "code",
   "source": [
    "for col in categorical_df.columns:\n",
    "    temp_df = df[col].value_counts().rename_axis(col).reset_index(name='counts')\n",
    "    # rename the row base on column description mapping\n",
    "    if col in column_descriptions:\n",
    "        temp_df[col] = temp_df[col].map(column_descriptions[col])\n",
    "    temp_df['frequency'] = round(temp_df['counts'] / len(df) * 100, 2)\n",
    "    print(temp_df)"
   ],
   "id": "6dcc5d7e55ecf187",
   "outputs": [],
   "execution_count": null
  },
  {
   "metadata": {},
   "cell_type": "code",
   "source": [
    "fig, axs = plt.subplots(ncols=3, figsize=(20, 6))\n",
    "sns.histplot(x='HouseStyle', data=df, ax=axs[0], color='grey')\n",
    "sns.barplot(x='HouseStyle', y='SalePrice', data=df, ax=axs[1])\n",
    "sns.boxplot(x='HouseStyle', y='SalePrice', data=df, ax=axs[2])\n",
    "plt.tight_layout()"
   ],
   "id": "fd0cd36a487622f9",
   "outputs": [],
   "execution_count": null
  },
  {
   "metadata": {},
   "cell_type": "markdown",
   "source": "based on the above charts, we can see that the price of 2.5Fin houses is higher than other house styles, but the number of 2.5Fin houses is very low. This can be considered as an outlier.",
   "id": "eb96b0e8d59e1d2c"
  },
  {
   "metadata": {},
   "cell_type": "markdown",
   "source": "",
   "id": "691ab1e6fad1169c"
  },
  {
   "metadata": {},
   "cell_type": "code",
   "source": [
    "fig, axs = plt.subplots(ncols=3, figsize=(20, 6))\n",
    "sns.histplot(x='RoofStyle', data=df, ax=axs[0], color='grey')\n",
    "sns.barplot(x='RoofStyle', y='SalePrice', data=df, ax=axs[1])\n",
    "sns.boxplot(x='RoofStyle', y='SalePrice', data=df, ax=axs[2])\n",
    "plt.tight_layout()"
   ],
   "id": "4bb9545133798ff5",
   "outputs": [],
   "execution_count": null
  },
  {
   "metadata": {},
   "cell_type": "markdown",
   "source": "About 75% of the houses have a gable roof style. The price of houses with a hip roof style is higher than other roof styles.The Shed roof style has the highest price, but the number of houses with this style is very low.",
   "id": "77d3b64c112d05ee"
  },
  {
   "metadata": {},
   "cell_type": "markdown",
   "source": [
    "-----------------------------------------------------------------------\n",
    "# Numerical Variables"
   ],
   "id": "d06b8e5d164c5cd7"
  },
  {
   "metadata": {},
   "cell_type": "code",
   "source": "list(set(df.dtypes.tolist()))",
   "id": "e5aca65148c4c12e",
   "outputs": [],
   "execution_count": null
  },
  {
   "metadata": {},
   "cell_type": "code",
   "source": [
    "df_num = df.select_dtypes(include=['float64', 'int64'])\n",
    "df_num.head()"
   ],
   "id": "9d99a4887c324661",
   "outputs": [],
   "execution_count": null
  },
  {
   "metadata": {},
   "cell_type": "code",
   "source": "df_num.hist(figsize=(16, 20), bins=50, xlabelsize=8, ylabelsize=8)",
   "id": "75d226dc1d62e7d4",
   "outputs": [],
   "execution_count": null
  },
  {
   "metadata": {},
   "cell_type": "markdown",
   "source": "# Ourlier Detection",
   "id": "1ce6c880fcf4e5a5"
  },
  {
   "metadata": {},
   "cell_type": "code",
   "source": [
    "fig, axs = plt.subplots(ncols=3, nrows=df_num.shape[1] // 3, figsize=(20, 40))\n",
    "\n",
    "# Flatten the axes array to easily iterate over it\n",
    "axs = axs.flatten()\n",
    "\n",
    "for i, col in enumerate(df_num.columns):\n",
    "    # Check if we have more columns than subplots\n",
    "    if i < len(axs):\n",
    "        axs[i].scatter(x = df_num[col], y = df['SalePrice'])\n",
    "        axs[i].set_ylabel('SalePrice', fontsize=13)\n",
    "        axs[i].set_xlabel(col, fontsize=13)\n",
    "\n",
    "plt.tight_layout()\n",
    "plt.show()"
   ],
   "id": "d7f1f22b3756328c",
   "outputs": [],
   "execution_count": null
  },
  {
   "metadata": {},
   "cell_type": "markdown",
   "source": "We can see that there are outliers in some columns. We will handle these outliers in the data preprocessing step.",
   "id": "ec3f0ab978526d60"
  },
  {
   "metadata": {},
   "cell_type": "code",
   "source": [
    "#Deleting outliers\n",
    "df = df.drop(df[(df['GrLivArea']>4000) & (df['SalePrice']<300000)].index)\n",
    "df_num = df.select_dtypes(include=['float64', 'int64'])\n",
    "\n",
    "\n",
    "#Check the graphic again\n",
    "fig, ax = plt.subplots()\n",
    "ax.scatter(df['GrLivArea'], df['SalePrice'])\n",
    "plt.ylabel('SalePrice', fontsize=13)\n",
    "plt.xlabel('GrLivArea', fontsize=13)\n",
    "plt.show()"
   ],
   "id": "963f874d92a118e2",
   "outputs": [],
   "execution_count": null
  },
  {
   "metadata": {},
   "cell_type": "markdown",
   "source": "there also have outliers in the 'TotalBsmtSF' and '1stFlrSF' columns. But after deleting the outliers of 'GrLivArea', the outliers of 'TotalBsmtSF' and '1stFlrSF' are also deleted.",
   "id": "623be6731c1b42d9"
  },
  {
   "metadata": {},
   "cell_type": "markdown",
   "source": [
    "-----------------------------------------------------------------------\n",
    "# Correlation Matrix"
   ],
   "id": "966a9f86e71d8eb"
  },
  {
   "metadata": {},
   "cell_type": "code",
   "source": [
    "corr = df_num.corr()\n",
    "plt.figure(figsize=(20, 20))\n",
    "sns.heatmap(corr, annot=True, fmt=\".2f\", cmap='coolwarm', vmin=-1, vmax=1)\n",
    "plt.show()"
   ],
   "id": "9069cb4c6532fe50",
   "outputs": [],
   "execution_count": null
  },
  {
   "metadata": {},
   "cell_type": "markdown",
   "source": [
    "-----------------------------------------------------------------------\n",
    "# Modeling\n",
    "\n",
    "Import librairies\n"
   ],
   "id": "ee77b9bd24503ba9"
  },
  {
   "metadata": {
    "ExecuteTime": {
     "end_time": "2024-06-03T09:38:16.793685Z",
     "start_time": "2024-06-03T09:38:15.631193Z"
    }
   },
   "cell_type": "code",
   "source": [
    "\n",
    "from sklearn.linear_model import ElasticNet, Lasso,  BayesianRidge, LassoLarsIC\n",
    "from sklearn.ensemble import RandomForestRegressor,  GradientBoostingRegressor\n",
    "from sklearn.kernel_ridge import KernelRidge\n",
    "from sklearn.pipeline import make_pipeline\n",
    "from sklearn.preprocessing import RobustScaler\n",
    "from sklearn.base import BaseEstimator, TransformerMixin, RegressorMixin, clone\n",
    "from sklearn.model_selection import KFold, cross_val_score, train_test_split\n",
    "from sklearn.metrics import mean_squared_error\n",
    "import xgboost as xgb\n",
    "import lightgbm as lgb"
   ],
   "id": "e04aa4f5dce34cc6",
   "outputs": [],
   "execution_count": 127
  },
  {
   "metadata": {},
   "cell_type": "markdown",
   "source": [
    "Define a cross validation strategy\n",
    "\n",
    "We use the cross_val_score function of Sklearn. However this function has not a shuffle attribut, we add then one line of code, in order to shuffle the dataset prior to cross-validation\n"
   ],
   "id": "c19a096f537534"
  },
  {
   "metadata": {
    "ExecuteTime": {
     "end_time": "2024-06-03T09:38:18.848132Z",
     "start_time": "2024-06-03T09:38:18.830996Z"
    }
   },
   "cell_type": "code",
   "source": [
    "n_folds = 5\n",
    "\n",
    "def rmsle_cv(model):\n",
    "    kf = KFold(n_folds, shuffle=True, random_state=42).get_n_splits(df.values)\n",
    "    rmse= np.sqrt(-cross_val_score(model, df.values, df['SalePrice'], scoring=\"neg_mean_squared_error\", cv = kf))\n",
    "    return(rmse)"
   ],
   "id": "824af32275a497a2",
   "outputs": [],
   "execution_count": 128
  },
  {
   "metadata": {},
   "cell_type": "markdown",
   "source": [
    "\n",
    "Base models\n",
    "\n",
    "LASSO Regression :\n",
    "\n",
    "This model may be very sensitive to outliers. So we need to made it more robust on them. For that we use the sklearn's Robustscaler() method on pipeline\n"
   ],
   "id": "af23a637558beb75"
  },
  {
   "metadata": {
    "ExecuteTime": {
     "end_time": "2024-06-03T09:38:22.074729Z",
     "start_time": "2024-06-03T09:38:22.070234Z"
    }
   },
   "cell_type": "code",
   "source": "lasso = make_pipeline(RobustScaler(), Lasso(alpha =0.0005, random_state=1))",
   "id": "f455bff742c4cb7",
   "outputs": [],
   "execution_count": 129
  },
  {
   "metadata": {},
   "cell_type": "markdown",
   "source": [
    "\n",
    "Elastic Net Regression :\n",
    "\n",
    "again made robust to outliers\n"
   ],
   "id": "11fcd7fae6a6d2d2"
  },
  {
   "metadata": {
    "ExecuteTime": {
     "end_time": "2024-06-03T09:38:24.241391Z",
     "start_time": "2024-06-03T09:38:24.237506Z"
    }
   },
   "cell_type": "code",
   "source": "ENet = make_pipeline(RobustScaler(), ElasticNet(alpha=0.0005, l1_ratio=.9, random_state=3))",
   "id": "525fd280a9fead7d",
   "outputs": [],
   "execution_count": 130
  },
  {
   "metadata": {},
   "cell_type": "markdown",
   "source": [
    "\n",
    "Kernel Ridge Regression :\n"
   ],
   "id": "da49ed2119575a37"
  },
  {
   "metadata": {
    "ExecuteTime": {
     "end_time": "2024-06-03T09:38:26.077900Z",
     "start_time": "2024-06-03T09:38:26.073256Z"
    }
   },
   "cell_type": "code",
   "source": "KRR = KernelRidge(alpha=0.6, kernel='polynomial', degree=2, coef0=2.5)",
   "id": "8f494c6d6bb9156",
   "outputs": [],
   "execution_count": 131
  },
  {
   "metadata": {},
   "cell_type": "markdown",
   "source": [
    "\n",
    "Gradient Boosting Regression :\n",
    "\n",
    "With huber loss that makes it robust to outliers\n"
   ],
   "id": "e5771dcd24d6cc9b"
  },
  {
   "metadata": {
    "ExecuteTime": {
     "end_time": "2024-06-03T09:38:28.115146Z",
     "start_time": "2024-06-03T09:38:28.109446Z"
    }
   },
   "cell_type": "code",
   "source": [
    "GBoost = GradientBoostingRegressor(n_estimators=3000, learning_rate=0.05,\n",
    "                                   max_depth=4, max_features='sqrt',\n",
    "                                   min_samples_leaf=15, min_samples_split=10, \n",
    "                                   loss='huber', random_state =5)"
   ],
   "id": "4ea5bb21438f909f",
   "outputs": [],
   "execution_count": 132
  },
  {
   "metadata": {},
   "cell_type": "markdown",
   "source": [
    "\n",
    "XGBoost :\n",
    "    "
   ],
   "id": "cb1f8adc43aac7fe"
  },
  {
   "metadata": {
    "ExecuteTime": {
     "end_time": "2024-06-03T09:38:29.257729Z",
     "start_time": "2024-06-03T09:38:29.248144Z"
    }
   },
   "cell_type": "code",
   "source": [
    "model_xgb = xgb.XGBRegressor(colsample_bytree=0.4603, gamma=0.0468, \n",
    "                             learning_rate=0.05, max_depth=3, \n",
    "                             min_child_weight=1.7817, n_estimators=2200,\n",
    "                             reg_alpha=0.4640, reg_lambda=0.8571,\n",
    "                             subsample=0.5213, silent=1,\n",
    "                             random_state =7, nthread = -1)"
   ],
   "id": "3977ddaf046dd50c",
   "outputs": [],
   "execution_count": 133
  },
  {
   "metadata": {},
   "cell_type": "markdown",
   "source": [
    "\n",
    "LightGBM :\n"
   ],
   "id": "d008fc1060e988be"
  },
  {
   "metadata": {
    "ExecuteTime": {
     "end_time": "2024-06-03T09:38:30.339701Z",
     "start_time": "2024-06-03T09:38:30.335677Z"
    }
   },
   "cell_type": "code",
   "source": [
    "model_lgb = lgb.LGBMRegressor(objective='regression',num_leaves=5,\n",
    "                              learning_rate=0.05, n_estimators=720,\n",
    "                              max_bin = 55, bagging_fraction = 0.8,\n",
    "                              bagging_freq = 5, feature_fraction = 0.2319,\n",
    "                              feature_fraction_seed=9, bagging_seed=9,\n",
    "                              min_data_in_leaf =6, min_sum_hessian_in_leaf = 11)"
   ],
   "id": "4a0542b9d907f079",
   "outputs": [],
   "execution_count": 134
  },
  {
   "metadata": {},
   "cell_type": "markdown",
   "source": [
    "\n",
    "Base models scores\n"
   ],
   "id": "cca5ba72f958bcfd"
  },
  {
   "metadata": {
    "ExecuteTime": {
     "end_time": "2024-06-03T09:39:33.506583Z",
     "start_time": "2024-06-03T09:38:31.448162Z"
    }
   },
   "cell_type": "code",
   "source": [
    "score = rmsle_cv(lasso)\n",
    "print(\"\\nLasso score: {:.4f} ({:.4f})\\n\".format(score.mean(), score.std()))\n",
    "\n",
    "score = rmsle_cv(ENet)\n",
    "print(\"ElasticNet score: {:.4f} ({:.4f})\\n\".format(score.mean(), score.std()))\n",
    "\n",
    "score = rmsle_cv(KRR)\n",
    "print(\"Kernel Ridge score: {:.4f} ({:.4f})\\n\".format(score.mean(), score.std()))\n",
    "\n",
    "score = rmsle_cv(GBoost)\n",
    "print(\"Gradient Boosting score: {:.4f} ({:.4f})\\n\".format(score.mean(), score.std()))\n",
    "\n",
    "score = rmsle_cv(model_xgb)\n",
    "print(\"Xgboost score: {:.4f} ({:.4f})\\n\".format(score.mean(), score.std()))\n",
    "\n",
    "score = rmsle_cv(model_lgb)\n",
    "print(\"LGBM score: {:.4f} ({:.4f})\\n\" .format(score.mean(), score.std()))\n"
   ],
   "id": "cc2e1a40ee3a437d",
   "outputs": [
    {
     "name": "stdout",
     "output_type": "stream",
     "text": [
      "\n",
      "Lasso score: 0.0006 (0.0000)\n",
      "\n",
      "ElasticNet score: 0.0006 (0.0000)\n",
      "\n",
      "Kernel Ridge score: 0.0220 (0.0020)\n",
      "\n",
      "Gradient Boosting score: 0.0153 (0.0017)\n",
      "\n",
      "Xgboost score: 0.0196 (0.0018)\n",
      "\n",
      "[LightGBM] [Warning] min_data_in_leaf is set=6, min_child_samples=20 will be ignored. Current value: min_data_in_leaf=6\n",
      "[LightGBM] [Warning] feature_fraction is set=0.2319, colsample_bytree=1.0 will be ignored. Current value: feature_fraction=0.2319\n",
      "[LightGBM] [Warning] min_sum_hessian_in_leaf is set=11, min_child_weight=0.001 will be ignored. Current value: min_sum_hessian_in_leaf=11\n",
      "[LightGBM] [Warning] bagging_fraction is set=0.8, subsample=1.0 will be ignored. Current value: bagging_fraction=0.8\n",
      "[LightGBM] [Warning] bagging_freq is set=5, subsample_freq=0 will be ignored. Current value: bagging_freq=5\n",
      "[LightGBM] [Warning] min_data_in_leaf is set=6, min_child_samples=20 will be ignored. Current value: min_data_in_leaf=6\n",
      "[LightGBM] [Warning] feature_fraction is set=0.2319, colsample_bytree=1.0 will be ignored. Current value: feature_fraction=0.2319\n",
      "[LightGBM] [Warning] min_sum_hessian_in_leaf is set=11, min_child_weight=0.001 will be ignored. Current value: min_sum_hessian_in_leaf=11\n",
      "[LightGBM] [Warning] bagging_fraction is set=0.8, subsample=1.0 will be ignored. Current value: bagging_fraction=0.8\n",
      "[LightGBM] [Warning] bagging_freq is set=5, subsample_freq=0 will be ignored. Current value: bagging_freq=5\n",
      "[LightGBM] [Info] Auto-choosing row-wise multi-threading, the overhead of testing was 0.001363 seconds.\n",
      "You can set `force_row_wise=true` to remove the overhead.\n",
      "And if memory is not enough, you can set `force_col_wise=true`.\n",
      "[LightGBM] [Info] Total Bins 1699\n",
      "[LightGBM] [Info] Number of data points in the train set: 1168, number of used features: 365\n",
      "[LightGBM] [Info] Start training from score 3.549101\n",
      "[LightGBM] [Warning] min_data_in_leaf is set=6, min_child_samples=20 will be ignored. Current value: min_data_in_leaf=6\n",
      "[LightGBM] [Warning] feature_fraction is set=0.2319, colsample_bytree=1.0 will be ignored. Current value: feature_fraction=0.2319\n",
      "[LightGBM] [Warning] min_sum_hessian_in_leaf is set=11, min_child_weight=0.001 will be ignored. Current value: min_sum_hessian_in_leaf=11\n",
      "[LightGBM] [Warning] bagging_fraction is set=0.8, subsample=1.0 will be ignored. Current value: bagging_fraction=0.8\n",
      "[LightGBM] [Warning] bagging_freq is set=5, subsample_freq=0 will be ignored. Current value: bagging_freq=5\n",
      "[LightGBM] [Warning] min_data_in_leaf is set=6, min_child_samples=20 will be ignored. Current value: min_data_in_leaf=6\n",
      "[LightGBM] [Warning] feature_fraction is set=0.2319, colsample_bytree=1.0 will be ignored. Current value: feature_fraction=0.2319\n",
      "[LightGBM] [Warning] min_sum_hessian_in_leaf is set=11, min_child_weight=0.001 will be ignored. Current value: min_sum_hessian_in_leaf=11\n",
      "[LightGBM] [Warning] bagging_fraction is set=0.8, subsample=1.0 will be ignored. Current value: bagging_fraction=0.8\n",
      "[LightGBM] [Warning] bagging_freq is set=5, subsample_freq=0 will be ignored. Current value: bagging_freq=5\n",
      "[LightGBM] [Warning] min_data_in_leaf is set=6, min_child_samples=20 will be ignored. Current value: min_data_in_leaf=6\n",
      "[LightGBM] [Warning] feature_fraction is set=0.2319, colsample_bytree=1.0 will be ignored. Current value: feature_fraction=0.2319\n",
      "[LightGBM] [Warning] min_sum_hessian_in_leaf is set=11, min_child_weight=0.001 will be ignored. Current value: min_sum_hessian_in_leaf=11\n",
      "[LightGBM] [Warning] bagging_fraction is set=0.8, subsample=1.0 will be ignored. Current value: bagging_fraction=0.8\n",
      "[LightGBM] [Warning] bagging_freq is set=5, subsample_freq=0 will be ignored. Current value: bagging_freq=5\n",
      "[LightGBM] [Info] Auto-choosing row-wise multi-threading, the overhead of testing was 0.001181 seconds.\n",
      "You can set `force_row_wise=true` to remove the overhead.\n",
      "And if memory is not enough, you can set `force_col_wise=true`.\n",
      "[LightGBM] [Info] Total Bins 1696\n",
      "[LightGBM] [Info] Number of data points in the train set: 1168, number of used features: 365\n",
      "[LightGBM] [Info] Start training from score 3.549446\n",
      "[LightGBM] [Warning] min_data_in_leaf is set=6, min_child_samples=20 will be ignored. Current value: min_data_in_leaf=6\n",
      "[LightGBM] [Warning] feature_fraction is set=0.2319, colsample_bytree=1.0 will be ignored. Current value: feature_fraction=0.2319\n",
      "[LightGBM] [Warning] min_sum_hessian_in_leaf is set=11, min_child_weight=0.001 will be ignored. Current value: min_sum_hessian_in_leaf=11\n",
      "[LightGBM] [Warning] bagging_fraction is set=0.8, subsample=1.0 will be ignored. Current value: bagging_fraction=0.8\n",
      "[LightGBM] [Warning] bagging_freq is set=5, subsample_freq=0 will be ignored. Current value: bagging_freq=5\n",
      "[LightGBM] [Warning] min_data_in_leaf is set=6, min_child_samples=20 will be ignored. Current value: min_data_in_leaf=6\n",
      "[LightGBM] [Warning] feature_fraction is set=0.2319, colsample_bytree=1.0 will be ignored. Current value: feature_fraction=0.2319\n",
      "[LightGBM] [Warning] min_sum_hessian_in_leaf is set=11, min_child_weight=0.001 will be ignored. Current value: min_sum_hessian_in_leaf=11\n",
      "[LightGBM] [Warning] bagging_fraction is set=0.8, subsample=1.0 will be ignored. Current value: bagging_fraction=0.8\n",
      "[LightGBM] [Warning] bagging_freq is set=5, subsample_freq=0 will be ignored. Current value: bagging_freq=5\n",
      "[LightGBM] [Warning] min_data_in_leaf is set=6, min_child_samples=20 will be ignored. Current value: min_data_in_leaf=6\n",
      "[LightGBM] [Warning] feature_fraction is set=0.2319, colsample_bytree=1.0 will be ignored. Current value: feature_fraction=0.2319\n",
      "[LightGBM] [Warning] min_sum_hessian_in_leaf is set=11, min_child_weight=0.001 will be ignored. Current value: min_sum_hessian_in_leaf=11\n",
      "[LightGBM] [Warning] bagging_fraction is set=0.8, subsample=1.0 will be ignored. Current value: bagging_fraction=0.8\n",
      "[LightGBM] [Warning] bagging_freq is set=5, subsample_freq=0 will be ignored. Current value: bagging_freq=5\n",
      "[LightGBM] [Info] Auto-choosing row-wise multi-threading, the overhead of testing was 0.000698 seconds.\n",
      "You can set `force_row_wise=true` to remove the overhead.\n",
      "And if memory is not enough, you can set `force_col_wise=true`.\n",
      "[LightGBM] [Info] Total Bins 1689\n",
      "[LightGBM] [Info] Number of data points in the train set: 1168, number of used features: 362\n",
      "[LightGBM] [Info] Start training from score 3.548993\n",
      "[LightGBM] [Warning] min_data_in_leaf is set=6, min_child_samples=20 will be ignored. Current value: min_data_in_leaf=6\n",
      "[LightGBM] [Warning] feature_fraction is set=0.2319, colsample_bytree=1.0 will be ignored. Current value: feature_fraction=0.2319\n",
      "[LightGBM] [Warning] min_sum_hessian_in_leaf is set=11, min_child_weight=0.001 will be ignored. Current value: min_sum_hessian_in_leaf=11\n",
      "[LightGBM] [Warning] bagging_fraction is set=0.8, subsample=1.0 will be ignored. Current value: bagging_fraction=0.8\n",
      "[LightGBM] [Warning] bagging_freq is set=5, subsample_freq=0 will be ignored. Current value: bagging_freq=5\n",
      "[LightGBM] [Warning] min_data_in_leaf is set=6, min_child_samples=20 will be ignored. Current value: min_data_in_leaf=6\n",
      "[LightGBM] [Warning] feature_fraction is set=0.2319, colsample_bytree=1.0 will be ignored. Current value: feature_fraction=0.2319\n",
      "[LightGBM] [Warning] min_sum_hessian_in_leaf is set=11, min_child_weight=0.001 will be ignored. Current value: min_sum_hessian_in_leaf=11\n",
      "[LightGBM] [Warning] bagging_fraction is set=0.8, subsample=1.0 will be ignored. Current value: bagging_fraction=0.8\n",
      "[LightGBM] [Warning] bagging_freq is set=5, subsample_freq=0 will be ignored. Current value: bagging_freq=5\n",
      "[LightGBM] [Warning] min_data_in_leaf is set=6, min_child_samples=20 will be ignored. Current value: min_data_in_leaf=6\n",
      "[LightGBM] [Warning] feature_fraction is set=0.2319, colsample_bytree=1.0 will be ignored. Current value: feature_fraction=0.2319\n",
      "[LightGBM] [Warning] min_sum_hessian_in_leaf is set=11, min_child_weight=0.001 will be ignored. Current value: min_sum_hessian_in_leaf=11\n",
      "[LightGBM] [Warning] bagging_fraction is set=0.8, subsample=1.0 will be ignored. Current value: bagging_fraction=0.8\n",
      "[LightGBM] [Warning] bagging_freq is set=5, subsample_freq=0 will be ignored. Current value: bagging_freq=5\n",
      "[LightGBM] [Info] Auto-choosing row-wise multi-threading, the overhead of testing was 0.000849 seconds.\n",
      "You can set `force_row_wise=true` to remove the overhead.\n",
      "And if memory is not enough, you can set `force_col_wise=true`.\n",
      "[LightGBM] [Info] Total Bins 1699\n",
      "[LightGBM] [Info] Number of data points in the train set: 1168, number of used features: 365\n",
      "[LightGBM] [Info] Start training from score 3.551115\n",
      "[LightGBM] [Warning] min_data_in_leaf is set=6, min_child_samples=20 will be ignored. Current value: min_data_in_leaf=6\n",
      "[LightGBM] [Warning] feature_fraction is set=0.2319, colsample_bytree=1.0 will be ignored. Current value: feature_fraction=0.2319\n",
      "[LightGBM] [Warning] min_sum_hessian_in_leaf is set=11, min_child_weight=0.001 will be ignored. Current value: min_sum_hessian_in_leaf=11\n",
      "[LightGBM] [Warning] bagging_fraction is set=0.8, subsample=1.0 will be ignored. Current value: bagging_fraction=0.8\n",
      "[LightGBM] [Warning] bagging_freq is set=5, subsample_freq=0 will be ignored. Current value: bagging_freq=5\n",
      "[LightGBM] [Warning] min_data_in_leaf is set=6, min_child_samples=20 will be ignored. Current value: min_data_in_leaf=6\n",
      "[LightGBM] [Warning] feature_fraction is set=0.2319, colsample_bytree=1.0 will be ignored. Current value: feature_fraction=0.2319\n",
      "[LightGBM] [Warning] min_sum_hessian_in_leaf is set=11, min_child_weight=0.001 will be ignored. Current value: min_sum_hessian_in_leaf=11\n",
      "[LightGBM] [Warning] bagging_fraction is set=0.8, subsample=1.0 will be ignored. Current value: bagging_fraction=0.8\n",
      "[LightGBM] [Warning] bagging_freq is set=5, subsample_freq=0 will be ignored. Current value: bagging_freq=5\n",
      "[LightGBM] [Warning] min_data_in_leaf is set=6, min_child_samples=20 will be ignored. Current value: min_data_in_leaf=6\n",
      "[LightGBM] [Warning] feature_fraction is set=0.2319, colsample_bytree=1.0 will be ignored. Current value: feature_fraction=0.2319\n",
      "[LightGBM] [Warning] min_sum_hessian_in_leaf is set=11, min_child_weight=0.001 will be ignored. Current value: min_sum_hessian_in_leaf=11\n",
      "[LightGBM] [Warning] bagging_fraction is set=0.8, subsample=1.0 will be ignored. Current value: bagging_fraction=0.8\n",
      "[LightGBM] [Warning] bagging_freq is set=5, subsample_freq=0 will be ignored. Current value: bagging_freq=5\n",
      "[LightGBM] [Info] Auto-choosing row-wise multi-threading, the overhead of testing was 0.001076 seconds.\n",
      "You can set `force_row_wise=true` to remove the overhead.\n",
      "And if memory is not enough, you can set `force_col_wise=true`.\n",
      "[LightGBM] [Info] Total Bins 1701\n",
      "[LightGBM] [Info] Number of data points in the train set: 1168, number of used features: 368\n",
      "[LightGBM] [Info] Start training from score 3.549188\n",
      "[LightGBM] [Warning] min_data_in_leaf is set=6, min_child_samples=20 will be ignored. Current value: min_data_in_leaf=6\n",
      "[LightGBM] [Warning] feature_fraction is set=0.2319, colsample_bytree=1.0 will be ignored. Current value: feature_fraction=0.2319\n",
      "[LightGBM] [Warning] min_sum_hessian_in_leaf is set=11, min_child_weight=0.001 will be ignored. Current value: min_sum_hessian_in_leaf=11\n",
      "[LightGBM] [Warning] bagging_fraction is set=0.8, subsample=1.0 will be ignored. Current value: bagging_fraction=0.8\n",
      "[LightGBM] [Warning] bagging_freq is set=5, subsample_freq=0 will be ignored. Current value: bagging_freq=5\n",
      "LGBM score: 0.0118 (0.0008)\n",
      "\n"
     ]
    }
   ],
   "execution_count": 135
  },
  {
   "metadata": {
    "ExecuteTime": {
     "end_time": "2024-06-03T09:37:14.240581Z",
     "start_time": "2024-06-03T09:37:14.237320Z"
    }
   },
   "cell_type": "code",
   "source": "",
   "id": "afd8c578fd59ce9d",
   "outputs": [],
   "execution_count": 125
  },
  {
   "metadata": {},
   "cell_type": "code",
   "outputs": [],
   "execution_count": null,
   "source": "",
   "id": "9cf6a4fb5f6518cf"
  }
 ],
 "metadata": {
  "kernelspec": {
   "display_name": "Python 3",
   "language": "python",
   "name": "python3"
  },
  "language_info": {
   "codemirror_mode": {
    "name": "ipython",
    "version": 2
   },
   "file_extension": ".py",
   "mimetype": "text/x-python",
   "name": "python",
   "nbconvert_exporter": "python",
   "pygments_lexer": "ipython2",
   "version": "2.7.6"
  }
 },
 "nbformat": 4,
 "nbformat_minor": 5
}
